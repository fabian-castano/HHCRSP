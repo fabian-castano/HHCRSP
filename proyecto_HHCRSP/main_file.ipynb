{
 "cells": [
  {
   "cell_type": "code",
   "execution_count": null,
   "metadata": {},
   "outputs": [],
   "source": [
    "# import classes from folder app/classes.py\n",
    "from app.libs.classes import Shift, Nurse\n",
    "import json\n"
   ]
  },
  {
   "cell_type": "code",
   "execution_count": null,
   "metadata": {},
   "outputs": [],
   "source": [
    "with open('data/shifts.json', 'r') as f:\n",
    "    shifts = json.load(f)\n",
    "\n",
    "shifts = {shift['shift_id']: Shift(**shift) for shift in shifts}\n"
   ]
  },
  {
   "cell_type": "code",
   "execution_count": null,
   "metadata": {},
   "outputs": [],
   "source": [
    "with open('data/nurses.json', 'r') as f:\n",
    "    nurses = json.load(f)\n",
    "\n",
    "nurses = {nurse['nurse_id']: Nurse(**nurse) for nurse in nurses}\n",
    "nurses"
   ]
  },
  {
   "cell_type": "markdown",
   "metadata": {},
   "source": [
    "# Additional parameters "
   ]
  },
  {
   "cell_type": "code",
   "execution_count": null,
   "metadata": {},
   "outputs": [],
   "source": [
    "DM = 8\n",
    "HMM = 216"
   ]
  },
  {
   "cell_type": "markdown",
   "metadata": {},
   "source": [
    "# Modelo"
   ]
  },
  {
   "cell_type": "code",
   "execution_count": null,
   "metadata": {},
   "outputs": [],
   "source": [
    "from datetime import datetime, timedelta\n",
    "from math import floor\n",
    "from typing import Dict\n",
    "\n",
    "from app.libs.classes import Shift, Nurse\n",
    "from app.libs.constants import HMM, DM\n",
    "import pulp as plp\n",
    "from itertools import product"
   ]
  },
  {
   "cell_type": "code",
   "execution_count": null,
   "metadata": {},
   "outputs": [],
   "source": [
    "import pulp as plp\n",
    "\n",
    "model = plp.LpProblem(\"Nurse Scheduling\", plp.LpMinimize)\n",
    "I = set(nurses.keys())\n",
    "J = set(shifts.keys())\n",
    "K = set([datetime.strptime(shifts[j].shift_date, '%Y-%m-%d').day for j in J])\n",
    "week=set([datetime.strptime(shifts[j].shift_date, '%Y-%m-%d').isocalendar()[1] for j in J])\n",
    "\n",
    "valid_keys = [(i, j) for (i,j) in product(I, J) if datetime.strptime(shifts[j].shift_date, '%Y-%m-%d').day not in nurses[i].vacations]\n"
   ]
  },
  {
   "cell_type": "code",
   "execution_count": null,
   "metadata": {},
   "outputs": [],
   "source": [
    "X = plp.LpVariable.dicts(\"X\", valid_keys, cat=plp.LpBinary)\n",
    "W = plp.LpVariable.dicts(\"W\", [(i, k) for (i,k) in product(I, K)], cat=plp.LpBinary)\n",
    "Zmorning=plp.LpVariable.dicts(\"Zmorning\", [(i, w) for (i,w) in product(I, week)], cat=plp.LpBinary)\n",
    "Zafternoon=plp.LpVariable.dicts(\"Zafternoon\", [(i, w) for (i,w) in product(I, week)], cat=plp.LpBinary)\n",
    "\n",
    "V = plp.LpVariable.dicts(\"V\", I, cat=plp.LpContinuous)  # overtime\n",
    "Y = plp.LpVariable.dicts(\"Y\", I, cat=plp.LpContinuous) # TOTAL NUMBER OF SHIFTS ASSIGNED TO NURSE i\n",
    "MDH = plp.LpVariable(\"MDH\", cat=plp.LpContinuous) # MAXIMUM DIFFERENCE BETWEEN MAXIMUM SHIFTS AND REAL NUMBER OF SHIFTS ASSIGNED\n",
    "DOff = plp.LpVariable.dicts(\"DOff\", I, cat=plp.LpContinuous) \n"
   ]
  },
  {
   "cell_type": "markdown",
   "metadata": {},
   "source": [
    "# Objective function"
   ]
  },
  {
   "cell_type": "code",
   "execution_count": null,
   "metadata": {},
   "outputs": [],
   "source": [
    "expr_PDL = plp.lpSum([(X[i, j] for (i,j) in valid_keys if datetime.strptime(shifts[j].shift_date, '%Y-%m-%d').day in nurses[i].dates_off)])\n",
    "# accounts for the number of weekends a person is assigned to a shif not in his/her preference\n",
    "expr_PWE = plp.lpSum([(X[i, j]) for (i,j) in valid_keys if\n",
    "                        datetime.strptime(shifts[j].shift_date, '%Y-%m-%d').weekday() in [5, 6] and\n",
    "                        (nurses[i].shift_preference != shifts[j].shift_type)])\n",
    "\n",
    "Obj_2 = MDH + plp.lpSum([V[i] for i in I]) * (1 / DM)"
   ]
  },
  {
   "cell_type": "code",
   "execution_count": null,
   "metadata": {},
   "outputs": [],
   "source": [
    "# accounts the number of shifts assigned to a nurse\n",
    "for nurse in I:\n",
    "    model+=Y[nurse] == plp.lpSum([X[nurse, shift] for shift in J if (nurse, shift) in valid_keys]), f\"assigned_shifts_{nurse}\""
   ]
  },
  {
   "cell_type": "code",
   "execution_count": null,
   "metadata": {},
   "outputs": [],
   "source": [
    " # accounts for the difference between shifts that should be assigned to a caregiver \n",
    "            # (considering overtime hours to be balanced) and real number of shifts assigned\n",
    "\n",
    "for nurse in I:\n",
    "    model += Y[nurse] - (HMM - nurses[nurse].accumulated_hours) * (1 / DM) <= MDH, f\"balance_hours_1_{nurses[nurse].nurse_id}\"\n",
    "    model += (HMM - nurses[nurse].accumulated_hours) * (1 / DM) - Y[nurse] <= MDH, f\"balance_hours_2_{nurses[nurse].nurse_id}\""
   ]
  },
  {
   "cell_type": "code",
   "execution_count": null,
   "metadata": {},
   "outputs": [],
   "source": [
    "# dictionary enumerating the shifts happening in each day\n",
    "shifts_per_day = {}\n",
    "for shift in J:\n",
    "    if shifts[shift].shift_date not in shifts_per_day:\n",
    "        shifts_per_day[shifts[shift].shift_date] = []\n",
    "    shifts_per_day[shifts[shift].shift_date].append(shift)\n"
   ]
  },
  {
   "cell_type": "code",
   "execution_count": null,
   "metadata": {},
   "outputs": [],
   "source": [
    "for i in I:\n",
    "    for spd in shifts_per_day.keys():\n",
    "        model += plp.lpSum([X[i, j] for j in shifts_per_day[spd] if (i, j) in valid_keys]) <= 1, f\"one_shift_per_day_{nurses[i].nurse_id}_{spd}\"\n"
   ]
  },
  {
   "cell_type": "code",
   "execution_count": null,
   "metadata": {},
   "outputs": [],
   "source": [
    "# accounts for overtime V hours required\n",
    "for i in I:\n",
    "    model += Y[i] * DM <= (HMM - nurses[i].accumulated_hours) + V[i], f\"overtime_{nurses[i].nurse_id}\""
   ]
  },
  {
   "cell_type": "code",
   "execution_count": null,
   "metadata": {},
   "outputs": [],
   "source": [
    "# demand is satisfied\n",
    "for j in J:\n",
    "    model += plp.lpSum([X[(i, j)] for i in I if (i, j) in valid_keys]) >= shifts[j].demand, f\"demand_{j}\"\n",
    "        "
   ]
  },
  {
   "cell_type": "code",
   "execution_count": null,
   "metadata": {},
   "outputs": [],
   "source": [
    "# for each weekend, a nurse works at most one day\n",
    "for i in I:\n",
    "    for j1 in J:\n",
    "        if (i, j1) in valid_keys and datetime.strptime(shifts[j1].shift_date,'%Y-%m-%d').weekday() == 5:\n",
    "            model += X[i, j1] + plp.lpSum([X[i, j2] for j2 in J if\n",
    "                                                        (i, j2) in valid_keys and datetime.strptime(shifts[j2].shift_date, '%Y-%m-%d').weekday() == 6\n",
    "                                                        and datetime.strptime(shifts[j2].shift_date,'%Y-%m-%d') == datetime.strptime(shifts[j1].shift_date, '%Y-%m-%d') + timedelta(days=1)]) <= 1, f\"weekend_{nurses[i].nurse_id}_{j1}\"\n"
   ]
  },
  {
   "cell_type": "code",
   "execution_count": null,
   "metadata": {},
   "outputs": [],
   "source": [
    "for i,k in product(I, K):\n",
    "    model += (1 - plp.lpSum([X[i, j] for j in J if (i, j) in valid_keys and datetime.strptime(shifts[j].shift_date, '%Y-%m-%d').day == k])) ==W[i, k], f\"day_is_off_{nurses[i].nurse_id}_{k}\""
   ]
  },
  {
   "cell_type": "code",
   "execution_count": null,
   "metadata": {},
   "outputs": [],
   "source": [
    "days = list([datetime.strptime(shifts[j].shift_date, '%Y-%m-%d').day for j in J if datetime.strptime(shifts[j].shift_date, '%Y-%m-%d').weekday() in [5, 6]])\n",
    "\n",
    "total_weekend_days = len(days)\n",
    "\n",
    "for i in I:\n",
    "    model += DOff[i] == plp.lpSum([W[i, k] for k in days]), f\"weekend_off_1_{nurses[i].nurse_id}\"\n",
    "    model += DOff[i] >= floor(total_weekend_days / 2) + 1, f\"weekend_off_2_{nurses[i].nurse_id}\""
   ]
  },
  {
   "cell_type": "code",
   "execution_count": null,
   "metadata": {},
   "outputs": [],
   "source": [
    "for i,w in product(I, week):\n",
    "    model += Zmorning[i, w] + Zafternoon[i, w] <= 1, f\"shifts_per_week_{nurses[i].nurse_id}_{w}\""
   ]
  },
  {
   "cell_type": "code",
   "execution_count": null,
   "metadata": {},
   "outputs": [],
   "source": [
    "# if a nurse works in a morning shift the varriable Z_morning is equal to 1\n",
    "for i in I:\n",
    "    for j in J:\n",
    "        if (i, j) in valid_keys and shifts[j].shift_type == 'morning':\n",
    "            model +=  X[i, j]<=Zmorning[i, datetime.strptime(shifts[j].shift_date, '%Y-%m-%d').isocalendar()[1]], f\"morning_shift_{nurses[i].nurse_id}_{j}\"\n",
    "        else:\n",
    "            model +=  X[i, j]<=Zafternoon[i, datetime.strptime(shifts[j].shift_date, '%Y-%m-%d').isocalendar()[1]], f\"afternoon_shift_{nurses[i].nurse_id}_{j}\""
   ]
  },
  {
   "cell_type": "code",
   "execution_count": null,
   "metadata": {},
   "outputs": [],
   "source": [
    "#an afternoon shift cannot be followed by a morning shift\n",
    "for i in I:\n",
    "    for j in J:\n",
    "        if (i, j) in valid_keys and shifts[j].shift_type == 'morning':\n",
    "            model +=  X[i, j] + plp.lpSum([X[i, j2] for j2 in J if\n",
    "                                                        (i, j2) in valid_keys and datetime.strptime(shifts[j2].shift_date, '%Y-%m-%d') == datetime.strptime(shifts[j].shift_date, '%Y-%m-%d') - timedelta(days=1)\n",
    "                                                        and shifts[j2].shift_type == 'afternoon']) <= 1, f\"morning_afternoon_{nurses[i].nurse_id}_{j}\""
   ]
  },
  {
   "cell_type": "code",
   "execution_count": null,
   "metadata": {},
   "outputs": [],
   "source": [
    "#\n",
    "model.setObjective(expr_PDL+expr_PWE)"
   ]
  },
  {
   "cell_type": "code",
   "execution_count": null,
   "metadata": {},
   "outputs": [],
   "source": [
    "# solve the problem using HIGHS\n",
    "path_to_highs = '/Users/user/Documents/rnd_apricot_single_period/lib/HiGHS/bin'\n",
    "solver = plp.GUROBI_CMD(path=path_to_highs)\n",
    "model.solve()"
   ]
  },
  {
   "cell_type": "code",
   "execution_count": null,
   "metadata": {},
   "outputs": [],
   "source": [
    "\n",
    "objective = model.objective.value()\n",
    "epsilon = 1\n",
    "model+= expr_PDL+expr_PWE<=objective + epsilon , \"value_obj_1\"\n",
    "model.setObjective(Obj_2)\n",
    "while model.status == 1:\n",
    "    model.solve()\n",
    "    print(model.objective.value())\n",
    "    epsilon += 1\n",
    "    ctr = model.constraints[\"value_obj_1\"]\n",
    "    ctr.changeRHS(objective + epsilon)\n",
    "    \n",
    "model.setObjective(Obj_2)"
   ]
  },
  {
   "cell_type": "code",
   "execution_count": 76,
   "metadata": {},
   "outputs": [
    {
     "name": "stdout",
     "output_type": "stream",
     "text": [
      "Nurse Otalora_Castro_Rocio_del_Pilar works in shift 2 on 2023-01-01 (morning--DISP--1)\n",
      "Nurse Otalora_Castro_Rocio_del_Pilar works in shift 29 on 2023-01-05 (afternoon--CHX--1)\n",
      "Nurse Otalora_Castro_Rocio_del_Pilar works in shift 33 on 2023-01-06 (afternoon--T1--1)\n",
      "Nurse Otalora_Castro_Rocio_del_Pilar works in shift 61 on 2023-01-11 (morning--COM--1)\n",
      "Nurse Otalora_Castro_Rocio_del_Pilar works in shift 66 on 2023-01-12 (morning--M--2)\n",
      "Nurse Otalora_Castro_Rocio_del_Pilar works in shift 73 on 2023-01-13 (morning--COM--1)\n",
      "Nurse Otalora_Castro_Rocio_del_Pilar works in shift 84 on 2023-01-15 (morning--M--1)\n",
      "Nurse Otalora_Castro_Rocio_del_Pilar works in shift 96 on 2023-01-17 (morning--M--2)\n",
      "Nurse Otalora_Castro_Rocio_del_Pilar works in shift 126 on 2023-01-22 (morning--M--1)\n",
      "Nurse Otalora_Castro_Rocio_del_Pilar works in shift 132 on 2023-01-23 (morning--M--2)\n",
      "Nurse Otalora_Castro_Rocio_del_Pilar works in shift 138 on 2023-01-24 (morning--M--2)\n",
      "Nurse Otalora_Castro_Rocio_del_Pilar works in shift 144 on 2023-01-25 (morning--M--2)\n",
      "Nurse Otalora_Castro_Rocio_del_Pilar works in shift 151 on 2023-01-26 (morning--COM--1)\n",
      "Nurse Otalora_Castro_Rocio_del_Pilar works in shift 162 on 2023-01-28 (morning--M--1)\n",
      "Nurse Otalora_Castro_Rocio_del_Pilar works in shift 180 on 2023-01-31 (morning--M--2)\n",
      "Nurse Lina_Mabel_Torres_Pulido works in shift 6 on 2023-01-02 (morning--M--2)\n",
      "Nurse Lina_Mabel_Torres_Pulido works in shift 19 on 2023-01-04 (morning--COM--1)\n",
      "Nurse Lina_Mabel_Torres_Pulido works in shift 30 on 2023-01-06 (morning--M--2)\n",
      "Nurse Lina_Mabel_Torres_Pulido works in shift 38 on 2023-01-07 (morning--DISP--1)\n",
      "Nurse Lina_Mabel_Torres_Pulido works in shift 49 on 2023-01-09 (morning--COM--1)\n",
      "Nurse Lina_Mabel_Torres_Pulido works in shift 54 on 2023-01-10 (morning--M--2)\n",
      "Nurse Lina_Mabel_Torres_Pulido works in shift 67 on 2023-01-12 (morning--COM--1)\n",
      "Nurse Lina_Mabel_Torres_Pulido works in shift 72 on 2023-01-13 (morning--M--2)\n",
      "Nurse Lina_Mabel_Torres_Pulido works in shift 86 on 2023-01-15 (morning--DISP--1)\n",
      "Nurse Lina_Mabel_Torres_Pulido works in shift 91 on 2023-01-16 (morning--COM--1)\n",
      "Nurse Lina_Mabel_Torres_Pulido works in shift 97 on 2023-01-17 (morning--COM--1)\n",
      "Nurse Lina_Mabel_Torres_Pulido works in shift 102 on 2023-01-18 (morning--M--2)\n",
      "Nurse Lina_Mabel_Torres_Pulido works in shift 109 on 2023-01-19 (morning--COM--1)\n",
      "Nurse Lina_Mabel_Torres_Pulido works in shift 115 on 2023-01-20 (morning--COM--1)\n",
      "Nurse Lina_Mabel_Torres_Pulido works in shift 120 on 2023-01-21 (morning--M--1)\n",
      "Nurse Lina_Mabel_Torres_Pulido works in shift 174 on 2023-01-30 (morning--M--2)\n",
      "Nurse Lina_Mabel_Torres_Pulido works in shift 180 on 2023-01-31 (morning--M--2)\n",
      "Nurse Rodriguez_Bohorquez_Luz_Dary works in shift 9 on 2023-01-02 (afternoon--T1--1)\n",
      "Nurse Rodriguez_Bohorquez_Luz_Dary works in shift 17 on 2023-01-03 (afternoon--CHX--1)\n",
      "Nurse Rodriguez_Bohorquez_Luz_Dary works in shift 27 on 2023-01-05 (afternoon--T1--1)\n",
      "Nurse Rodriguez_Bohorquez_Luz_Dary works in shift 35 on 2023-01-06 (afternoon--CHX--1)\n",
      "Nurse Rodriguez_Bohorquez_Luz_Dary works in shift 41 on 2023-01-07 (afternoon--CHX--1)\n",
      "Nurse Rodriguez_Bohorquez_Luz_Dary works in shift 53 on 2023-01-09 (afternoon--CHX--1)\n",
      "Nurse Rodriguez_Bohorquez_Luz_Dary works in shift 57 on 2023-01-10 (afternoon--T1--1)\n",
      "Nurse Rodriguez_Bohorquez_Luz_Dary works in shift 63 on 2023-01-11 (afternoon--T1--1)\n",
      "Nurse Rodriguez_Bohorquez_Luz_Dary works in shift 69 on 2023-01-12 (afternoon--T1--1)\n",
      "Nurse Rodriguez_Bohorquez_Luz_Dary works in shift 77 on 2023-01-13 (afternoon--CHX--1)\n",
      "Nurse Rodriguez_Bohorquez_Luz_Dary works in shift 83 on 2023-01-14 (afternoon--CHX--1)\n",
      "Nurse Rodriguez_Bohorquez_Luz_Dary works in shift 95 on 2023-01-16 (afternoon--CHX--1)\n",
      "Nurse Rodriguez_Bohorquez_Luz_Dary works in shift 101 on 2023-01-17 (afternoon--CHX--1)\n",
      "Nurse Rodriguez_Bohorquez_Luz_Dary works in shift 107 on 2023-01-18 (afternoon--CHX--1)\n",
      "Nurse Rodriguez_Bohorquez_Luz_Dary works in shift 125 on 2023-01-21 (afternoon--CHX--1)\n",
      "Nurse Rodriguez_Bohorquez_Luz_Dary works in shift 135 on 2023-01-23 (afternoon--T1--1)\n",
      "Nurse Rodriguez_Bohorquez_Luz_Dary works in shift 143 on 2023-01-24 (afternoon--CHX--1)\n",
      "Nurse Rodriguez_Bohorquez_Luz_Dary works in shift 147 on 2023-01-25 (afternoon--T1--1)\n",
      "Nurse Rodriguez_Bohorquez_Luz_Dary works in shift 153 on 2023-01-26 (afternoon--T1--1)\n",
      "Nurse Rodriguez_Bohorquez_Luz_Dary works in shift 161 on 2023-01-27 (afternoon--CHX--1)\n",
      "Nurse Rodriguez_Bohorquez_Luz_Dary works in shift 166 on 2023-01-28 (afternoon--T2--1)\n",
      "Nurse Rodriguez_Bohorquez_Luz_Dary works in shift 174 on 2023-01-30 (morning--M--2)\n",
      "Nurse Rodriguez_Bohorquez_Luz_Dary works in shift 181 on 2023-01-31 (morning--COM--1)\n",
      "Nurse Carrero_Contreras_Tania_Maryely works in shift 6 on 2023-01-02 (morning--M--2)\n",
      "Nurse Carrero_Contreras_Tania_Maryely works in shift 12 on 2023-01-03 (morning--M--2)\n",
      "Nurse Carrero_Contreras_Tania_Maryely works in shift 18 on 2023-01-04 (morning--M--2)\n",
      "Nurse Carrero_Contreras_Tania_Maryely works in shift 25 on 2023-01-05 (morning--COM--1)\n",
      "Nurse Carrero_Contreras_Tania_Maryely works in shift 31 on 2023-01-06 (morning--COM--1)\n",
      "Nurse Carrero_Contreras_Tania_Maryely works in shift 42 on 2023-01-08 (morning--M--1)\n",
      "Nurse Carrero_Contreras_Tania_Maryely works in shift 48 on 2023-01-09 (morning--M--1)\n",
      "Nurse Carrero_Contreras_Tania_Maryely works in shift 55 on 2023-01-10 (morning--COM--1)\n",
      "Nurse Carrero_Contreras_Tania_Maryely works in shift 60 on 2023-01-11 (morning--M--2)\n",
      "Nurse Carrero_Contreras_Tania_Maryely works in shift 66 on 2023-01-12 (morning--M--2)\n",
      "Nurse Carrero_Contreras_Tania_Maryely works in shift 72 on 2023-01-13 (morning--M--2)\n",
      "Nurse Carrero_Contreras_Tania_Maryely works in shift 80 on 2023-01-14 (morning--DISP--1)\n",
      "Nurse Carrero_Contreras_Tania_Maryely works in shift 90 on 2023-01-16 (morning--M--2)\n",
      "Nurse Carrero_Contreras_Tania_Maryely works in shift 96 on 2023-01-17 (morning--M--2)\n",
      "Nurse Carrero_Contreras_Tania_Maryely works in shift 102 on 2023-01-18 (morning--M--2)\n",
      "Nurse Carrero_Contreras_Tania_Maryely works in shift 108 on 2023-01-19 (morning--M--2)\n",
      "Nurse Carrero_Contreras_Tania_Maryely works in shift 114 on 2023-01-20 (morning--M--2)\n",
      "Nurse Carrero_Contreras_Tania_Maryely works in shift 122 on 2023-01-21 (morning--DISP--1)\n",
      "Nurse Carrero_Contreras_Tania_Maryely works in shift 133 on 2023-01-23 (morning--COM--1)\n",
      "Nurse Carrero_Contreras_Tania_Maryely works in shift 144 on 2023-01-25 (morning--M--2)\n",
      "Nurse Carrero_Contreras_Tania_Maryely works in shift 157 on 2023-01-27 (morning--COM--1)\n",
      "Nurse Carrero_Contreras_Tania_Maryely works in shift 170 on 2023-01-29 (morning--DISP--1)\n",
      "Nurse Ballesteros_Mesa_Jeimy_Catalina works in shift 11 on 2023-01-02 (afternoon--CHX--1)\n",
      "Nurse Ballesteros_Mesa_Jeimy_Catalina works in shift 23 on 2023-01-04 (afternoon--CHX--1)\n",
      "Nurse Ballesteros_Mesa_Jeimy_Catalina works in shift 40 on 2023-01-07 (afternoon--T2--1)\n",
      "Nurse Ballesteros_Mesa_Jeimy_Catalina works in shift 52 on 2023-01-09 (afternoon--T2--1)\n",
      "Nurse Ballesteros_Mesa_Jeimy_Catalina works in shift 71 on 2023-01-12 (afternoon--CHX--1)\n",
      "Nurse Ballesteros_Mesa_Jeimy_Catalina works in shift 75 on 2023-01-13 (afternoon--T1--1)\n",
      "Nurse Ballesteros_Mesa_Jeimy_Catalina works in shift 82 on 2023-01-14 (afternoon--T2--1)\n",
      "Nurse Ballesteros_Mesa_Jeimy_Catalina works in shift 93 on 2023-01-16 (afternoon--T1--1)\n",
      "Nurse Ballesteros_Mesa_Jeimy_Catalina works in shift 117 on 2023-01-20 (afternoon--T1--1)\n",
      "Nurse Ballesteros_Mesa_Jeimy_Catalina works in shift 124 on 2023-01-21 (afternoon--T2--1)\n",
      "Nurse Ballesteros_Mesa_Jeimy_Catalina works in shift 137 on 2023-01-23 (afternoon--CHX--1)\n",
      "Nurse Ballesteros_Mesa_Jeimy_Catalina works in shift 141 on 2023-01-24 (afternoon--T1--1)\n",
      "Nurse Ballesteros_Mesa_Jeimy_Catalina works in shift 149 on 2023-01-25 (afternoon--CHX--1)\n",
      "Nurse Ballesteros_Mesa_Jeimy_Catalina works in shift 155 on 2023-01-26 (afternoon--CHX--1)\n",
      "Nurse Ballesteros_Mesa_Jeimy_Catalina works in shift 159 on 2023-01-27 (afternoon--T1--1)\n",
      "Nurse Ballesteros_Mesa_Jeimy_Catalina works in shift 167 on 2023-01-28 (afternoon--CHX--1)\n",
      "Nurse Ballesteros_Mesa_Jeimy_Catalina works in shift 175 on 2023-01-30 (morning--COM--1)\n",
      "Nurse Barrera_Castillo_Jenny_Lorena works in shift 12 on 2023-01-03 (morning--M--2)\n",
      "Nurse Barrera_Castillo_Jenny_Lorena works in shift 24 on 2023-01-05 (morning--M--2)\n",
      "Nurse Barrera_Castillo_Jenny_Lorena works in shift 30 on 2023-01-06 (morning--M--2)\n",
      "Nurse Barrera_Castillo_Jenny_Lorena works in shift 44 on 2023-01-08 (morning--DISP--1)\n",
      "Nurse Barrera_Castillo_Jenny_Lorena works in shift 51 on 2023-01-09 (afternoon--T1--1)\n",
      "Nurse Barrera_Castillo_Jenny_Lorena works in shift 59 on 2023-01-10 (afternoon--CHX--1)\n",
      "Nurse Barrera_Castillo_Jenny_Lorena works in shift 65 on 2023-01-11 (afternoon--CHX--1)\n",
      "Nurse Barrera_Castillo_Jenny_Lorena works in shift 113 on 2023-01-19 (afternoon--CHX--1)\n",
      "Nurse Barrera_Castillo_Jenny_Lorena works in shift 132 on 2023-01-23 (morning--M--2)\n",
      "Nurse Barrera_Castillo_Jenny_Lorena works in shift 145 on 2023-01-25 (morning--COM--1)\n",
      "Nurse Murcia_Maira_Alejandra works in shift 0 on 2023-01-01 (morning--M--1)\n",
      "Nurse Murcia_Maira_Alejandra works in shift 7 on 2023-01-02 (morning--COM--1)\n",
      "Nurse Murcia_Maira_Alejandra works in shift 13 on 2023-01-03 (morning--COM--1)\n",
      "Nurse Murcia_Maira_Alejandra works in shift 18 on 2023-01-04 (morning--M--2)\n",
      "Nurse Murcia_Maira_Alejandra works in shift 24 on 2023-01-05 (morning--M--2)\n",
      "Nurse Murcia_Maira_Alejandra works in shift 36 on 2023-01-07 (morning--M--1)\n",
      "Nurse Murcia_Maira_Alejandra works in shift 50 on 2023-01-09 (morning--DISP--1)\n",
      "Nurse Murcia_Maira_Alejandra works in shift 54 on 2023-01-10 (morning--M--2)\n",
      "Nurse Murcia_Maira_Alejandra works in shift 60 on 2023-01-11 (morning--M--2)\n",
      "Nurse Murcia_Maira_Alejandra works in shift 78 on 2023-01-14 (morning--M--1)\n",
      "Nurse Murcia_Maira_Alejandra works in shift 99 on 2023-01-17 (afternoon--T1--1)\n",
      "Nurse Murcia_Maira_Alejandra works in shift 105 on 2023-01-18 (afternoon--T1--1)\n",
      "Nurse Murcia_Maira_Alejandra works in shift 111 on 2023-01-19 (afternoon--T1--1)\n",
      "Nurse Murcia_Maira_Alejandra works in shift 119 on 2023-01-20 (afternoon--CHX--1)\n",
      "Nurse Murcia_Maira_Alejandra works in shift 138 on 2023-01-24 (morning--M--2)\n",
      "Nurse Murcia_Maira_Alejandra works in shift 150 on 2023-01-26 (morning--M--2)\n",
      "Nurse Murcia_Maira_Alejandra works in shift 156 on 2023-01-27 (morning--M--2)\n",
      "Nurse Murcia_Maira_Alejandra works in shift 168 on 2023-01-29 (morning--M--1)\n",
      "Nurse Murcia_Maira_Alejandra works in shift 179 on 2023-01-30 (afternoon--CHX--1)\n",
      "Nurse Murcia_Maira_Alejandra works in shift 183 on 2023-01-31 (afternoon--T1--1)\n",
      "Nurse Molano_Tovar_Sandra_Johana works in shift 15 on 2023-01-03 (afternoon--T1--1)\n",
      "Nurse Molano_Tovar_Sandra_Johana works in shift 21 on 2023-01-04 (afternoon--T1--1)\n",
      "Nurse Molano_Tovar_Sandra_Johana works in shift 90 on 2023-01-16 (morning--M--2)\n",
      "Nurse Molano_Tovar_Sandra_Johana works in shift 103 on 2023-01-18 (morning--COM--1)\n",
      "Nurse Molano_Tovar_Sandra_Johana works in shift 108 on 2023-01-19 (morning--M--2)\n",
      "Nurse Molano_Tovar_Sandra_Johana works in shift 114 on 2023-01-20 (morning--M--2)\n",
      "Nurse Molano_Tovar_Sandra_Johana works in shift 128 on 2023-01-22 (morning--DISP--1)\n",
      "Nurse Molano_Tovar_Sandra_Johana works in shift 139 on 2023-01-24 (morning--COM--1)\n",
      "Nurse Molano_Tovar_Sandra_Johana works in shift 150 on 2023-01-26 (morning--M--2)\n",
      "Nurse Molano_Tovar_Sandra_Johana works in shift 156 on 2023-01-27 (morning--M--2)\n",
      "Nurse Molano_Tovar_Sandra_Johana works in shift 164 on 2023-01-28 (morning--DISP--1)\n",
      "Nurse Molano_Tovar_Sandra_Johana works in shift 177 on 2023-01-30 (afternoon--T1--1)\n",
      "Nurse Molano_Tovar_Sandra_Johana works in shift 185 on 2023-01-31 (afternoon--CHX--1)\n"
     ]
    }
   ],
   "source": [
    "for i in I:\n",
    "    for j in J:\n",
    "        if (i, j) in valid_keys and X[i, j].varValue > 0.5:\n",
    "            print(f\"Nurse {nurses[i].nurse_name} works in shift {shifts[j].shift_id} on {shifts[j].shift_date} ({shifts[j].shift_type}--{shifts[j].shift}--{shifts[j].demand})\")"
   ]
  }
 ],
 "metadata": {
  "kernelspec": {
   "display_name": "Python 3",
   "language": "python",
   "name": "python3"
  },
  "language_info": {
   "codemirror_mode": {
    "name": "ipython",
    "version": 3
   },
   "file_extension": ".py",
   "mimetype": "text/x-python",
   "name": "python",
   "nbconvert_exporter": "python",
   "pygments_lexer": "ipython3",
   "version": "3.9.16"
  },
  "orig_nbformat": 4
 },
 "nbformat": 4,
 "nbformat_minor": 2
}
