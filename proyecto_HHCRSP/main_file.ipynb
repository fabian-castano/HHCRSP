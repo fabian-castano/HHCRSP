{
 "cells": [
  {
   "cell_type": "code",
   "execution_count": 201,
   "metadata": {},
   "outputs": [],
   "source": [
    "# import classes from folder app/classes.py\n",
    "from app.libs.classes import Shift, Nurse\n",
    "import json\n"
   ]
  },
  {
   "cell_type": "code",
   "execution_count": 202,
   "metadata": {},
   "outputs": [],
   "source": [
    "with open('data/shifts.json', 'r') as f:\n",
    "    shifts = json.load(f)\n",
    "\n",
    "shifts = {shift['shift_id']: Shift(**shift) for shift in shifts}\n"
   ]
  },
  {
   "cell_type": "code",
   "execution_count": 203,
   "metadata": {},
   "outputs": [
    {
     "data": {
      "text/plain": [
       "{1: Nurse(nurse_id=1, nurse_name='Otalora_Castro_Rocio_del_Pilar', shift_preference='morning', accumulated_hours=-53.0, morning_availability_labor_day=1, morning_availability_weekend=1, afternoon_availability_labor_day=0, afternoon_availability_weekend=1, dates_off=[8, 14, 21, 22, 28], vacations=[]),\n",
       " 2: Nurse(nurse_id=2, nurse_name='Lina_Mabel_Torres_Pulido', shift_preference='morning', accumulated_hours=-21.0, morning_availability_labor_day=1, morning_availability_weekend=1, afternoon_availability_labor_day=0, afternoon_availability_weekend=1, dates_off=[8, 15], vacations=[1, 2]),\n",
       " 3: Nurse(nurse_id=3, nurse_name='Rodriguez_Bohorquez_Luz_Dary', shift_preference='afternoon', accumulated_hours=-33.5, morning_availability_labor_day=1, morning_availability_weekend=1, afternoon_availability_labor_day=0, afternoon_availability_weekend=1, dates_off=[8, 14, 21, 22, 28], vacations=[]),\n",
       " 4: Nurse(nurse_id=4, nurse_name='Carrero_Contreras_Tania_Maryely', shift_preference='afternoon', accumulated_hours=-51.5, morning_availability_labor_day=0, morning_availability_weekend=1, afternoon_availability_labor_day=1, afternoon_availability_weekend=1, dates_off=[1, 7, 8, 21, 29], vacations=[16, 17, 18, 19, 20, 21, 22, 23, 24, 25, 26, 27, 28, 29, 30, 31]),\n",
       " 5: Nurse(nurse_id=5, nurse_name='Ballesteros_Mesa_Jeimy_Catalina', shift_preference='afternoon', accumulated_hours=-60.5, morning_availability_labor_day=0, morning_availability_weekend=1, afternoon_availability_labor_day=1, afternoon_availability_weekend=1, dates_off=[1, 7, 14, 15, 29], vacations=[]),\n",
       " 6: Nurse(nurse_id=6, nurse_name='Barrera_Castillo_Jenny_Lorena', shift_preference='morning', accumulated_hours=-48.5, morning_availability_labor_day=1, morning_availability_weekend=1, afternoon_availability_labor_day=1, afternoon_availability_weekend=1, dates_off=[8, 14, 22, 28], vacations=[]),\n",
       " 7: Nurse(nurse_id=7, nurse_name='Murcia_Maira_Alejandra', shift_preference='morning', accumulated_hours=0.0, morning_availability_labor_day=0, morning_availability_weekend=1, afternoon_availability_labor_day=0, afternoon_availability_weekend=1, dates_off=[1, 7, 15, 21, 28, 29], vacations=[]),\n",
       " 8: Nurse(nurse_id=8, nurse_name='Molano_Tovar_Sandra_Johana', shift_preference='afternoon', accumulated_hours=-18.0, morning_availability_labor_day=0, morning_availability_weekend=1, afternoon_availability_labor_day=1, afternoon_availability_weekend=1, dates_off=[1, 7, 15, 21, 28, 29, 31], vacations=[])}"
      ]
     },
     "execution_count": 203,
     "metadata": {},
     "output_type": "execute_result"
    }
   ],
   "source": [
    "with open('data/nurses.json', 'r') as f:\n",
    "    nurses = json.load(f)\n",
    "\n",
    "nurses = {nurse['nurse_id']: Nurse(**nurse) for nurse in nurses}\n",
    "nurses"
   ]
  },
  {
   "cell_type": "markdown",
   "metadata": {},
   "source": [
    "# Additional parameters "
   ]
  },
  {
   "cell_type": "code",
   "execution_count": 204,
   "metadata": {},
   "outputs": [],
   "source": [
    "DM = 8\n",
    "HMM = 216"
   ]
  },
  {
   "cell_type": "markdown",
   "metadata": {},
   "source": [
    "# Modelo"
   ]
  },
  {
   "cell_type": "code",
   "execution_count": 205,
   "metadata": {},
   "outputs": [],
   "source": [
    "from datetime import datetime, timedelta\n",
    "from math import floor\n",
    "from typing import Dict\n",
    "\n",
    "from app.libs.classes import Shift, Nurse\n",
    "from app.libs.constants import HMM, DM\n",
    "import pulp as plp\n",
    "from itertools import product"
   ]
  },
  {
   "cell_type": "code",
   "execution_count": 206,
   "metadata": {},
   "outputs": [
    {
     "name": "stderr",
     "output_type": "stream",
     "text": [
      "/Users/user/.pyenv/versions/3.9.16/lib/python3.9/site-packages/pulp/pulp.py:1352: UserWarning: Spaces are not permitted in the name. Converted to '_'\n",
      "  warnings.warn(\"Spaces are not permitted in the name. Converted to '_'\")\n"
     ]
    }
   ],
   "source": [
    "import pulp as plp\n",
    "\n",
    "model = plp.LpProblem(\"Nurse Scheduling\", plp.LpMinimize)\n",
    "I = set(nurses.keys())\n",
    "J = set(shifts.keys())\n",
    "K = set([datetime.strptime(shifts[j].shift_date, '%Y-%m-%d').day for j in J])\n",
    "week=set([datetime.strptime(shifts[j].shift_date, '%Y-%m-%d').isocalendar()[1] for j in J])\n",
    "\n",
    "valid_keys = [(i, j) for (i,j) in product(I, J) if datetime.strptime(shifts[j].shift_date, '%Y-%m-%d').day not in nurses[i].vacations]\n"
   ]
  },
  {
   "cell_type": "code",
   "execution_count": 207,
   "metadata": {},
   "outputs": [],
   "source": [
    "X = plp.LpVariable.dicts(\"X\", valid_keys, cat=plp.LpBinary)\n",
    "W = plp.LpVariable.dicts(\"W\", [(i, k) for (i,k) in product(I, K)], cat=plp.LpBinary)\n",
    "Zmorning=plp.LpVariable.dicts(\"Zmorning\", [(i, w) for (i,w) in product(I, week)], cat=plp.LpBinary)\n",
    "Zafternoon=plp.LpVariable.dicts(\"Zafternoon\", [(i, w) for (i,w) in product(I, week)], cat=plp.LpBinary)\n",
    "\n",
    "V = plp.LpVariable.dicts(\"V\", I, cat=plp.LpContinuous,lowBound=0)  # overtime\n",
    "Y = plp.LpVariable.dicts(\"Y\", I, cat=plp.LpContinuous,lowBound=0) # TOTAL NUMBER OF SHIFTS ASSIGNED TO NURSE i\n",
    "MDH = plp.LpVariable(\"MDH\", cat=plp.LpContinuous,lowBound=0) # MAXIMUM DIFFERENCE BETWEEN MAXIMUM SHIFTS AND REAL NUMBER OF SHIFTS ASSIGNED\n",
    "DOff = plp.LpVariable.dicts(\"DOff\", I, cat=plp.LpContinuous,lowBound=0) \n"
   ]
  },
  {
   "cell_type": "markdown",
   "metadata": {},
   "source": [
    "# Objective function"
   ]
  },
  {
   "cell_type": "code",
   "execution_count": 208,
   "metadata": {},
   "outputs": [],
   "source": [
    "expr_PDL = plp.lpSum([(X[i, j] for (i,j) in valid_keys if datetime.strptime(shifts[j].shift_date, '%Y-%m-%d').day in nurses[i].dates_off)])\n",
    "# accounts for the number of weekends a person is assigned to a shif not in his/her preference\n",
    "expr_PWE = plp.lpSum([(X[i, j]) for (i,j) in valid_keys if\n",
    "                        datetime.strptime(shifts[j].shift_date, '%Y-%m-%d').weekday() in [5, 6] and\n",
    "                        (nurses[i].shift_preference != shifts[j].shift_type)])\n",
    "\n",
    "Obj_2 = MDH + plp.lpSum([V[i] for i in I]) * (1 / DM)"
   ]
  },
  {
   "cell_type": "code",
   "execution_count": 209,
   "metadata": {},
   "outputs": [],
   "source": [
    "# accounts the number of shifts assigned to a nurse\n",
    "for nurse in I:\n",
    "    model+=Y[nurse] == plp.lpSum([X[nurse, shift] for shift in J if (nurse, shift) in valid_keys]), f\"assigned_shifts_{nurse}\""
   ]
  },
  {
   "cell_type": "code",
   "execution_count": 210,
   "metadata": {},
   "outputs": [],
   "source": [
    " # accounts for the difference between shifts that should be assigned to a caregiver \n",
    "            # (considering overtime hours to be balanced) and real number of shifts assigned\n",
    "\n",
    "for nurse in I:\n",
    "    expr = Y[nurse] - (HMM - nurses[nurse].accumulated_hours) * (1 / DM) <= MDH\n",
    "    model += expr, f\"balance_hours_1_{nurses[nurse].nurse_id}\"\n",
    "\n",
    "    expr = (HMM - nurses[nurse].accumulated_hours) * (1 / DM) - Y[nurse]<= MDH\n",
    "    model += expr,  f\"balance_hours_2_{nurses[nurse].nurse_id}\"\n",
    "    "
   ]
  },
  {
   "cell_type": "code",
   "execution_count": 211,
   "metadata": {},
   "outputs": [],
   "source": [
    "# dictionary enumerating the shifts happening in each day\n",
    "shifts_per_day = {}\n",
    "for shift in J:\n",
    "    if shifts[shift].shift_date not in shifts_per_day:\n",
    "        shifts_per_day[shifts[shift].shift_date] = []\n",
    "    shifts_per_day[shifts[shift].shift_date].append(shift)\n"
   ]
  },
  {
   "cell_type": "code",
   "execution_count": 212,
   "metadata": {},
   "outputs": [],
   "source": [
    "for i in I:\n",
    "    for spd in shifts_per_day.keys():\n",
    "        model += plp.lpSum([X[i, j] for j in shifts_per_day[spd] if (i, j) in valid_keys]) <= 1, f\"one_shift_per_day_{nurses[i].nurse_id}_{spd}\"\n"
   ]
  },
  {
   "cell_type": "code",
   "execution_count": 213,
   "metadata": {},
   "outputs": [],
   "source": [
    "# accounts for overtime V hours required\n",
    "for i in I:\n",
    "    model += Y[i] * DM <= (HMM - nurses[i].accumulated_hours) + V[i], f\"overtime_{nurses[i].nurse_id}\""
   ]
  },
  {
   "cell_type": "code",
   "execution_count": 214,
   "metadata": {},
   "outputs": [],
   "source": [
    "# demand is satisfied\n",
    "for j in J:\n",
    "    model += plp.lpSum([X[(i, j)] for i in I if (i, j) in valid_keys]) >= shifts[j].demand, f\"demand_{j}\"\n",
    "        "
   ]
  },
  {
   "cell_type": "code",
   "execution_count": 215,
   "metadata": {},
   "outputs": [],
   "source": [
    "# for each weekend, a nurse works at most one day\n",
    "for i in I:\n",
    "    for j1 in J:\n",
    "        if (i, j1) in valid_keys and datetime.strptime(shifts[j1].shift_date,'%Y-%m-%d').weekday() == 5:\n",
    "            model += X[i, j1] + plp.lpSum([X[i, j2] for j2 in J if\n",
    "                                                        (i, j2) in valid_keys and datetime.strptime(shifts[j2].shift_date, '%Y-%m-%d').weekday() == 6\n",
    "                                                        and datetime.strptime(shifts[j2].shift_date,'%Y-%m-%d') == datetime.strptime(shifts[j1].shift_date, '%Y-%m-%d') + timedelta(days=1)]) <= 1, f\"weekend_{nurses[i].nurse_id}_{j1}\"\n"
   ]
  },
  {
   "cell_type": "code",
   "execution_count": 216,
   "metadata": {},
   "outputs": [],
   "source": [
    "for i,k in product(I, K):\n",
    "    model += (1 - plp.lpSum([X[i, j] for j in J if (i, j) in valid_keys and datetime.strptime(shifts[j].shift_date, '%Y-%m-%d').day == k])) ==W[i, k], f\"day_is_off_{nurses[i].nurse_id}_{k}\""
   ]
  },
  {
   "cell_type": "code",
   "execution_count": 217,
   "metadata": {},
   "outputs": [],
   "source": [
    "days = list([datetime.strptime(shifts[j].shift_date, '%Y-%m-%d').day for j in J if datetime.strptime(shifts[j].shift_date, '%Y-%m-%d').weekday() in [5, 6]])\n",
    "\n",
    "total_weekend_days = len(days)\n",
    "\n",
    "for i in I:\n",
    "    model += DOff[i] == plp.lpSum([W[i, k] for k in days]), f\"weekend_off_1_{nurses[i].nurse_id}\"\n",
    "    model += DOff[i] >= floor(total_weekend_days / 2) + 1, f\"weekend_off_2_{nurses[i].nurse_id}\""
   ]
  },
  {
   "cell_type": "code",
   "execution_count": 218,
   "metadata": {},
   "outputs": [],
   "source": [
    "for i,w in product(I, week):\n",
    "    model += Zmorning[i, w] + Zafternoon[i, w] <= 1, f\"shifts_per_week_{nurses[i].nurse_id}_{w}\""
   ]
  },
  {
   "cell_type": "code",
   "execution_count": 219,
   "metadata": {},
   "outputs": [],
   "source": [
    "# if a nurse works in a morning shift the varriable Z_morning is equal to 1\n",
    "for i in I:\n",
    "    for j in J:\n",
    "        if (i, j) in valid_keys and shifts[j].shift_type == 'morning':\n",
    "            model +=  X[i, j]<=Zmorning[i, datetime.strptime(shifts[j].shift_date, '%Y-%m-%d').isocalendar()[1]], f\"morning_shift_{nurses[i].nurse_id}_{j}\"\n",
    "        elif (i, j) in valid_keys and shifts[j].shift_type == 'afternoon':\n",
    "            model +=  X[i, j]<=Zafternoon[i, datetime.strptime(shifts[j].shift_date, '%Y-%m-%d').isocalendar()[1]], f\"afternoon_shift_{nurses[i].nurse_id}_{j}\""
   ]
  },
  {
   "cell_type": "code",
   "execution_count": 220,
   "metadata": {},
   "outputs": [],
   "source": [
    "#an afternoon shift cannot be followed by a morning shift\n",
    "for i in I:\n",
    "    for j in J:\n",
    "        if (i, j) in valid_keys and shifts[j].shift_type == 'morning':\n",
    "            model +=  X[i, j] + plp.lpSum([X[i, j2] for j2 in J if\n",
    "                                                        (i, j2) in valid_keys and datetime.strptime(shifts[j2].shift_date, '%Y-%m-%d') == datetime.strptime(shifts[j].shift_date, '%Y-%m-%d') - timedelta(days=1)\n",
    "                                                        and shifts[j2].shift_type == 'afternoon']) <= 1, f\"morning_afternoon_{nurses[i].nurse_id}_{j}\""
   ]
  },
  {
   "cell_type": "code",
   "execution_count": null,
   "metadata": {},
   "outputs": [],
   "source": []
  },
  {
   "cell_type": "code",
   "execution_count": 221,
   "metadata": {},
   "outputs": [],
   "source": [
    "#\n",
    "model.setObjective(expr_PDL+expr_PWE)\n"
   ]
  },
  {
   "cell_type": "code",
   "execution_count": 222,
   "metadata": {},
   "outputs": [
    {
     "data": {
      "text/plain": [
       "1"
      ]
     },
     "execution_count": 222,
     "metadata": {},
     "output_type": "execute_result"
    }
   ],
   "source": [
    "# solve the problem using HIGHS\n",
    "solver = plp.GUROBI_CMD(msg=0)\n",
    "model.solve(solver)\n",
    "#Obj_2 = MDH + plp.lpSum([V[i] for i in I]) * (1 / DM)\n"
   ]
  },
  {
   "cell_type": "code",
   "execution_count": 223,
   "metadata": {},
   "outputs": [
    {
     "name": "stdout",
     "output_type": "stream",
     "text": [
      "4.0\n"
     ]
    }
   ],
   "source": [
    "print(model.objective.value())"
   ]
  },
  {
   "cell_type": "code",
   "execution_count": 225,
   "metadata": {},
   "outputs": [
    {
     "name": "stdout",
     "output_type": "stream",
     "text": [
      "14.4375 5.0\n",
      "13.4375 6.0\n",
      "13.4375 7.0\n",
      "13.4375 8.0\n",
      "13.4375 9.0\n",
      "13.4375 10.0\n",
      "13.4375 11.0\n",
      "13.4375 12.0\n",
      "13.4375 13.0\n",
      "13.4375 14.0\n",
      "13.4375 15.0\n"
     ]
    },
    {
     "ename": "KeyboardInterrupt",
     "evalue": "",
     "output_type": "error",
     "traceback": [
      "\u001b[0;31m---------------------------------------------------------------------------\u001b[0m",
      "\u001b[0;31mKeyboardInterrupt\u001b[0m                         Traceback (most recent call last)",
      "Cell \u001b[0;32mIn[225], line 6\u001b[0m\n\u001b[1;32m      4\u001b[0m model\u001b[39m.\u001b[39msetObjective(Obj_2)\n\u001b[1;32m      5\u001b[0m \u001b[39mwhile\u001b[39;00m model\u001b[39m.\u001b[39mstatus \u001b[39m==\u001b[39m \u001b[39m1\u001b[39m:\n\u001b[0;32m----> 6\u001b[0m     model\u001b[39m.\u001b[39;49msolve()\n\u001b[1;32m      7\u001b[0m     \u001b[39mprint\u001b[39m(model\u001b[39m.\u001b[39mobjective\u001b[39m.\u001b[39mvalue(),objective \u001b[39m+\u001b[39m epsilon)\n\u001b[1;32m      8\u001b[0m     epsilon \u001b[39m+\u001b[39m\u001b[39m=\u001b[39m \u001b[39m1\u001b[39m\n",
      "File \u001b[0;32m~/.pyenv/versions/3.9.16/lib/python3.9/site-packages/pulp/pulp.py:1913\u001b[0m, in \u001b[0;36mLpProblem.solve\u001b[0;34m(self, solver, **kwargs)\u001b[0m\n\u001b[1;32m   1911\u001b[0m \u001b[39m# time it\u001b[39;00m\n\u001b[1;32m   1912\u001b[0m \u001b[39mself\u001b[39m\u001b[39m.\u001b[39mstartClock()\n\u001b[0;32m-> 1913\u001b[0m status \u001b[39m=\u001b[39m solver\u001b[39m.\u001b[39;49mactualSolve(\u001b[39mself\u001b[39;49m, \u001b[39m*\u001b[39;49m\u001b[39m*\u001b[39;49mkwargs)\n\u001b[1;32m   1914\u001b[0m \u001b[39mself\u001b[39m\u001b[39m.\u001b[39mstopClock()\n\u001b[1;32m   1915\u001b[0m \u001b[39mself\u001b[39m\u001b[39m.\u001b[39mrestoreObjective(wasNone, dummyVar)\n",
      "File \u001b[0;32m~/.pyenv/versions/3.9.16/lib/python3.9/site-packages/pulp/apis/gurobi_api.py:390\u001b[0m, in \u001b[0;36mGUROBI_CMD.actualSolve\u001b[0;34m(self, lp)\u001b[0m\n\u001b[1;32m    387\u001b[0m \u001b[39melse\u001b[39;00m:\n\u001b[1;32m    388\u001b[0m     pipe \u001b[39m=\u001b[39m \u001b[39mopen\u001b[39m(os\u001b[39m.\u001b[39mdevnull, \u001b[39m\"\u001b[39m\u001b[39mw\u001b[39m\u001b[39m\"\u001b[39m)\n\u001b[0;32m--> 390\u001b[0m return_code \u001b[39m=\u001b[39m subprocess\u001b[39m.\u001b[39;49mcall(cmd\u001b[39m.\u001b[39;49msplit(), stdout\u001b[39m=\u001b[39;49mpipe, stderr\u001b[39m=\u001b[39;49mpipe)\n\u001b[1;32m    392\u001b[0m \u001b[39m# Close the pipe now if we used it.\u001b[39;00m\n\u001b[1;32m    393\u001b[0m \u001b[39mif\u001b[39;00m pipe \u001b[39mis\u001b[39;00m \u001b[39mnot\u001b[39;00m \u001b[39mNone\u001b[39;00m:\n",
      "File \u001b[0;32m~/.pyenv/versions/3.9.16/lib/python3.9/subprocess.py:351\u001b[0m, in \u001b[0;36mcall\u001b[0;34m(timeout, *popenargs, **kwargs)\u001b[0m\n\u001b[1;32m    349\u001b[0m \u001b[39mwith\u001b[39;00m Popen(\u001b[39m*\u001b[39mpopenargs, \u001b[39m*\u001b[39m\u001b[39m*\u001b[39mkwargs) \u001b[39mas\u001b[39;00m p:\n\u001b[1;32m    350\u001b[0m     \u001b[39mtry\u001b[39;00m:\n\u001b[0;32m--> 351\u001b[0m         \u001b[39mreturn\u001b[39;00m p\u001b[39m.\u001b[39;49mwait(timeout\u001b[39m=\u001b[39;49mtimeout)\n\u001b[1;32m    352\u001b[0m     \u001b[39mexcept\u001b[39;00m:  \u001b[39m# Including KeyboardInterrupt, wait handled that.\u001b[39;00m\n\u001b[1;32m    353\u001b[0m         p\u001b[39m.\u001b[39mkill()\n",
      "File \u001b[0;32m~/.pyenv/versions/3.9.16/lib/python3.9/subprocess.py:1189\u001b[0m, in \u001b[0;36mPopen.wait\u001b[0;34m(self, timeout)\u001b[0m\n\u001b[1;32m   1187\u001b[0m     endtime \u001b[39m=\u001b[39m _time() \u001b[39m+\u001b[39m timeout\n\u001b[1;32m   1188\u001b[0m \u001b[39mtry\u001b[39;00m:\n\u001b[0;32m-> 1189\u001b[0m     \u001b[39mreturn\u001b[39;00m \u001b[39mself\u001b[39;49m\u001b[39m.\u001b[39;49m_wait(timeout\u001b[39m=\u001b[39;49mtimeout)\n\u001b[1;32m   1190\u001b[0m \u001b[39mexcept\u001b[39;00m \u001b[39mKeyboardInterrupt\u001b[39;00m:\n\u001b[1;32m   1191\u001b[0m     \u001b[39m# https://bugs.python.org/issue25942\u001b[39;00m\n\u001b[1;32m   1192\u001b[0m     \u001b[39m# The first keyboard interrupt waits briefly for the child to\u001b[39;00m\n\u001b[1;32m   1193\u001b[0m     \u001b[39m# exit under the common assumption that it also received the ^C\u001b[39;00m\n\u001b[1;32m   1194\u001b[0m     \u001b[39m# generated SIGINT and will exit rapidly.\u001b[39;00m\n\u001b[1;32m   1195\u001b[0m     \u001b[39mif\u001b[39;00m timeout \u001b[39mis\u001b[39;00m \u001b[39mnot\u001b[39;00m \u001b[39mNone\u001b[39;00m:\n",
      "File \u001b[0;32m~/.pyenv/versions/3.9.16/lib/python3.9/subprocess.py:1917\u001b[0m, in \u001b[0;36mPopen._wait\u001b[0;34m(self, timeout)\u001b[0m\n\u001b[1;32m   1915\u001b[0m \u001b[39mif\u001b[39;00m \u001b[39mself\u001b[39m\u001b[39m.\u001b[39mreturncode \u001b[39mis\u001b[39;00m \u001b[39mnot\u001b[39;00m \u001b[39mNone\u001b[39;00m:\n\u001b[1;32m   1916\u001b[0m     \u001b[39mbreak\u001b[39;00m  \u001b[39m# Another thread waited.\u001b[39;00m\n\u001b[0;32m-> 1917\u001b[0m (pid, sts) \u001b[39m=\u001b[39m \u001b[39mself\u001b[39;49m\u001b[39m.\u001b[39;49m_try_wait(\u001b[39m0\u001b[39;49m)\n\u001b[1;32m   1918\u001b[0m \u001b[39m# Check the pid and loop as waitpid has been known to\u001b[39;00m\n\u001b[1;32m   1919\u001b[0m \u001b[39m# return 0 even without WNOHANG in odd situations.\u001b[39;00m\n\u001b[1;32m   1920\u001b[0m \u001b[39m# http://bugs.python.org/issue14396.\u001b[39;00m\n\u001b[1;32m   1921\u001b[0m \u001b[39mif\u001b[39;00m pid \u001b[39m==\u001b[39m \u001b[39mself\u001b[39m\u001b[39m.\u001b[39mpid:\n",
      "File \u001b[0;32m~/.pyenv/versions/3.9.16/lib/python3.9/subprocess.py:1875\u001b[0m, in \u001b[0;36mPopen._try_wait\u001b[0;34m(self, wait_flags)\u001b[0m\n\u001b[1;32m   1873\u001b[0m \u001b[39m\u001b[39m\u001b[39m\"\"\"All callers to this function MUST hold self._waitpid_lock.\"\"\"\u001b[39;00m\n\u001b[1;32m   1874\u001b[0m \u001b[39mtry\u001b[39;00m:\n\u001b[0;32m-> 1875\u001b[0m     (pid, sts) \u001b[39m=\u001b[39m os\u001b[39m.\u001b[39;49mwaitpid(\u001b[39mself\u001b[39;49m\u001b[39m.\u001b[39;49mpid, wait_flags)\n\u001b[1;32m   1876\u001b[0m \u001b[39mexcept\u001b[39;00m \u001b[39mChildProcessError\u001b[39;00m:\n\u001b[1;32m   1877\u001b[0m     \u001b[39m# This happens if SIGCLD is set to be ignored or waiting\u001b[39;00m\n\u001b[1;32m   1878\u001b[0m     \u001b[39m# for child processes has otherwise been disabled for our\u001b[39;00m\n\u001b[1;32m   1879\u001b[0m     \u001b[39m# process.  This child is dead, we can't get the status.\u001b[39;00m\n\u001b[1;32m   1880\u001b[0m     pid \u001b[39m=\u001b[39m \u001b[39mself\u001b[39m\u001b[39m.\u001b[39mpid\n",
      "\u001b[0;31mKeyboardInterrupt\u001b[0m: "
     ]
    }
   ],
   "source": [
    "\n",
    "objective = model.objective.value()\n",
    "epsilon = 1\n",
    "model+= expr_PDL+expr_PWE<=objective + epsilon , \"value_obj_1\"\n",
    "model.setObjective(Obj_2)\n",
    "print(model.objective.value(),objective + epsilon)\n",
    "while model.status == 1:\n",
    "    model.solve()\n",
    "    print(model.objective.value(),objective + epsilon)\n",
    "    epsilon += 1\n",
    "    ctr = model.constraints[\"value_obj_1\"]\n",
    "    ctr.changeRHS(objective + epsilon)\n",
    "    \n",
    "model.setObjective(Obj_2)"
   ]
  },
  {
   "cell_type": "code",
   "execution_count": 224,
   "metadata": {},
   "outputs": [
    {
     "name": "stdout",
     "output_type": "stream",
     "text": [
      "Nurse Otalora_Castro_Rocio_del_Pilar works in shift 0 on 2023-01-01 (morning--M--1) with vacation [] and days off [8, 14, 21, 22, 28].\n",
      "Nurse Otalora_Castro_Rocio_del_Pilar works in shift 6 on 2023-01-02 (morning--M--2) with vacation [] and days off [8, 14, 21, 22, 28].\n",
      "Nurse Otalora_Castro_Rocio_del_Pilar works in shift 12 on 2023-01-03 (morning--M--2) with vacation [] and days off [8, 14, 21, 22, 28].\n",
      "Nurse Otalora_Castro_Rocio_del_Pilar works in shift 18 on 2023-01-04 (morning--M--2) with vacation [] and days off [8, 14, 21, 22, 28].\n",
      "Nurse Otalora_Castro_Rocio_del_Pilar works in shift 24 on 2023-01-05 (morning--M--2) with vacation [] and days off [8, 14, 21, 22, 28].\n",
      "Nurse Otalora_Castro_Rocio_del_Pilar works in shift 30 on 2023-01-06 (morning--M--2) with vacation [] and days off [8, 14, 21, 22, 28].\n",
      "Nurse Otalora_Castro_Rocio_del_Pilar works in shift 36 on 2023-01-07 (morning--M--1) with vacation [] and days off [8, 14, 21, 22, 28].\n",
      "Nurse Otalora_Castro_Rocio_del_Pilar works in shift 50 on 2023-01-09 (morning--DISP--1) with vacation [] and days off [8, 14, 21, 22, 28].\n",
      "Nurse Otalora_Castro_Rocio_del_Pilar works in shift 54 on 2023-01-10 (morning--M--2) with vacation [] and days off [8, 14, 21, 22, 28].\n",
      "Nurse Otalora_Castro_Rocio_del_Pilar works in shift 60 on 2023-01-11 (morning--M--2) with vacation [] and days off [8, 14, 21, 22, 28].\n",
      "Nurse Otalora_Castro_Rocio_del_Pilar works in shift 66 on 2023-01-12 (morning--M--2) with vacation [] and days off [8, 14, 21, 22, 28].\n",
      "Nurse Otalora_Castro_Rocio_del_Pilar works in shift 72 on 2023-01-13 (morning--M--2) with vacation [] and days off [8, 14, 21, 22, 28].\n",
      "Nurse Otalora_Castro_Rocio_del_Pilar works in shift 90 on 2023-01-16 (morning--M--2) with vacation [] and days off [8, 14, 21, 22, 28].\n",
      "Nurse Otalora_Castro_Rocio_del_Pilar works in shift 96 on 2023-01-17 (morning--M--2) with vacation [] and days off [8, 14, 21, 22, 28].\n",
      "Nurse Otalora_Castro_Rocio_del_Pilar works in shift 102 on 2023-01-18 (morning--M--2) with vacation [] and days off [8, 14, 21, 22, 28].\n",
      "Nurse Otalora_Castro_Rocio_del_Pilar works in shift 108 on 2023-01-19 (morning--M--2) with vacation [] and days off [8, 14, 21, 22, 28].\n",
      "Nurse Otalora_Castro_Rocio_del_Pilar works in shift 114 on 2023-01-20 (morning--M--2) with vacation [] and days off [8, 14, 21, 22, 28].\n",
      "Nurse Otalora_Castro_Rocio_del_Pilar works in shift 122 on 2023-01-21 (morning--DISP--1) with vacation [] and days off [8, 14, 21, 22, 28].\n",
      "Nurse Otalora_Castro_Rocio_del_Pilar works in shift 133 on 2023-01-23 (morning--COM--1) with vacation [] and days off [8, 14, 21, 22, 28].\n",
      "Nurse Otalora_Castro_Rocio_del_Pilar works in shift 138 on 2023-01-24 (morning--M--2) with vacation [] and days off [8, 14, 21, 22, 28].\n",
      "Nurse Otalora_Castro_Rocio_del_Pilar works in shift 144 on 2023-01-25 (morning--M--2) with vacation [] and days off [8, 14, 21, 22, 28].\n",
      "Nurse Otalora_Castro_Rocio_del_Pilar works in shift 150 on 2023-01-26 (morning--M--2) with vacation [] and days off [8, 14, 21, 22, 28].\n",
      "Nurse Otalora_Castro_Rocio_del_Pilar works in shift 156 on 2023-01-27 (morning--M--2) with vacation [] and days off [8, 14, 21, 22, 28].\n",
      "Nurse Otalora_Castro_Rocio_del_Pilar works in shift 168 on 2023-01-29 (morning--M--1) with vacation [] and days off [8, 14, 21, 22, 28].\n",
      "Nurse Otalora_Castro_Rocio_del_Pilar works in shift 174 on 2023-01-30 (morning--M--2) with vacation [] and days off [8, 14, 21, 22, 28].\n",
      "Nurse Otalora_Castro_Rocio_del_Pilar works in shift 181 on 2023-01-31 (morning--COM--1) with vacation [] and days off [8, 14, 21, 22, 28].\n",
      "Nurse Lina_Mabel_Torres_Pulido works in shift 12 on 2023-01-03 (morning--M--2) with vacation [1, 2] and days off [8, 15].\n",
      "Nurse Lina_Mabel_Torres_Pulido works in shift 19 on 2023-01-04 (morning--COM--1) with vacation [1, 2] and days off [8, 15].\n",
      "Nurse Lina_Mabel_Torres_Pulido works in shift 25 on 2023-01-05 (morning--COM--1) with vacation [1, 2] and days off [8, 15].\n",
      "Nurse Lina_Mabel_Torres_Pulido works in shift 38 on 2023-01-07 (morning--DISP--1) with vacation [1, 2] and days off [8, 15].\n",
      "Nurse Lina_Mabel_Torres_Pulido works in shift 49 on 2023-01-09 (morning--COM--1) with vacation [1, 2] and days off [8, 15].\n",
      "Nurse Lina_Mabel_Torres_Pulido works in shift 66 on 2023-01-12 (morning--M--2) with vacation [1, 2] and days off [8, 15].\n",
      "Nurse Lina_Mabel_Torres_Pulido works in shift 78 on 2023-01-14 (morning--M--1) with vacation [1, 2] and days off [8, 15].\n",
      "Nurse Lina_Mabel_Torres_Pulido works in shift 90 on 2023-01-16 (morning--M--2) with vacation [1, 2] and days off [8, 15].\n",
      "Nurse Lina_Mabel_Torres_Pulido works in shift 96 on 2023-01-17 (morning--M--2) with vacation [1, 2] and days off [8, 15].\n",
      "Nurse Lina_Mabel_Torres_Pulido works in shift 114 on 2023-01-20 (morning--M--2) with vacation [1, 2] and days off [8, 15].\n",
      "Nurse Lina_Mabel_Torres_Pulido works in shift 126 on 2023-01-22 (morning--M--1) with vacation [1, 2] and days off [8, 15].\n",
      "Nurse Lina_Mabel_Torres_Pulido works in shift 145 on 2023-01-25 (morning--COM--1) with vacation [1, 2] and days off [8, 15].\n",
      "Nurse Lina_Mabel_Torres_Pulido works in shift 150 on 2023-01-26 (morning--M--2) with vacation [1, 2] and days off [8, 15].\n",
      "Nurse Lina_Mabel_Torres_Pulido works in shift 164 on 2023-01-28 (morning--DISP--1) with vacation [1, 2] and days off [8, 15].\n",
      "Nurse Lina_Mabel_Torres_Pulido works in shift 179 on 2023-01-30 (afternoon--CHX--1) with vacation [1, 2] and days off [8, 15].\n",
      "Nurse Lina_Mabel_Torres_Pulido works in shift 185 on 2023-01-31 (afternoon--CHX--1) with vacation [1, 2] and days off [8, 15].\n",
      "Nurse Rodriguez_Bohorquez_Luz_Dary works in shift 3 on 2023-01-01 (afternoon--T1--1) with vacation [] and days off [8, 14, 21, 22, 28].\n",
      "Nurse Rodriguez_Bohorquez_Luz_Dary works in shift 15 on 2023-01-03 (afternoon--T1--1) with vacation [] and days off [8, 14, 21, 22, 28].\n",
      "Nurse Rodriguez_Bohorquez_Luz_Dary works in shift 22 on 2023-01-04 (afternoon--T2--1) with vacation [] and days off [8, 14, 21, 22, 28].\n",
      "Nurse Rodriguez_Bohorquez_Luz_Dary works in shift 27 on 2023-01-05 (afternoon--T1--1) with vacation [] and days off [8, 14, 21, 22, 28].\n",
      "Nurse Rodriguez_Bohorquez_Luz_Dary works in shift 33 on 2023-01-06 (afternoon--T1--1) with vacation [] and days off [8, 14, 21, 22, 28].\n",
      "Nurse Rodriguez_Bohorquez_Luz_Dary works in shift 39 on 2023-01-07 (afternoon--T1--1) with vacation [] and days off [8, 14, 21, 22, 28].\n",
      "Nurse Rodriguez_Bohorquez_Luz_Dary works in shift 60 on 2023-01-11 (morning--M--2) with vacation [] and days off [8, 14, 21, 22, 28].\n",
      "Nurse Rodriguez_Bohorquez_Luz_Dary works in shift 73 on 2023-01-13 (morning--COM--1) with vacation [] and days off [8, 14, 21, 22, 28].\n",
      "Nurse Rodriguez_Bohorquez_Luz_Dary works in shift 84 on 2023-01-15 (morning--M--1) with vacation [] and days off [8, 14, 21, 22, 28].\n",
      "Nurse Rodriguez_Bohorquez_Luz_Dary works in shift 95 on 2023-01-16 (afternoon--CHX--1) with vacation [] and days off [8, 14, 21, 22, 28].\n",
      "Nurse Rodriguez_Bohorquez_Luz_Dary works in shift 99 on 2023-01-17 (afternoon--T1--1) with vacation [] and days off [8, 14, 21, 22, 28].\n",
      "Nurse Rodriguez_Bohorquez_Luz_Dary works in shift 107 on 2023-01-18 (afternoon--CHX--1) with vacation [] and days off [8, 14, 21, 22, 28].\n",
      "Nurse Rodriguez_Bohorquez_Luz_Dary works in shift 113 on 2023-01-19 (afternoon--CHX--1) with vacation [] and days off [8, 14, 21, 22, 28].\n",
      "Nurse Rodriguez_Bohorquez_Luz_Dary works in shift 118 on 2023-01-20 (afternoon--T2--1) with vacation [] and days off [8, 14, 21, 22, 28].\n",
      "Nurse Rodriguez_Bohorquez_Luz_Dary works in shift 136 on 2023-01-23 (afternoon--T2--1) with vacation [] and days off [8, 14, 21, 22, 28].\n",
      "Nurse Rodriguez_Bohorquez_Luz_Dary works in shift 143 on 2023-01-24 (afternoon--CHX--1) with vacation [] and days off [8, 14, 21, 22, 28].\n",
      "Nurse Rodriguez_Bohorquez_Luz_Dary works in shift 148 on 2023-01-25 (afternoon--T2--1) with vacation [] and days off [8, 14, 21, 22, 28].\n",
      "Nurse Rodriguez_Bohorquez_Luz_Dary works in shift 155 on 2023-01-26 (afternoon--CHX--1) with vacation [] and days off [8, 14, 21, 22, 28].\n",
      "Nurse Rodriguez_Bohorquez_Luz_Dary works in shift 161 on 2023-01-27 (afternoon--CHX--1) with vacation [] and days off [8, 14, 21, 22, 28].\n",
      "Nurse Rodriguez_Bohorquez_Luz_Dary works in shift 171 on 2023-01-29 (afternoon--T1--1) with vacation [] and days off [8, 14, 21, 22, 28].\n",
      "Nurse Rodriguez_Bohorquez_Luz_Dary works in shift 177 on 2023-01-30 (afternoon--T1--1) with vacation [] and days off [8, 14, 21, 22, 28].\n",
      "Nurse Rodriguez_Bohorquez_Luz_Dary works in shift 184 on 2023-01-31 (afternoon--T2--1) with vacation [] and days off [8, 14, 21, 22, 28].\n",
      "Nurse Carrero_Contreras_Tania_Maryely works in shift 9 on 2023-01-02 (afternoon--T1--1) with vacation [16, 17, 18, 19, 20, 21, 22, 23, 24, 25, 26, 27, 28, 29, 30, 31] and days off [1, 7, 8, 21, 29].\n",
      "Nurse Carrero_Contreras_Tania_Maryely works in shift 17 on 2023-01-03 (afternoon--CHX--1) with vacation [16, 17, 18, 19, 20, 21, 22, 23, 24, 25, 26, 27, 28, 29, 30, 31] and days off [1, 7, 8, 21, 29].\n",
      "Nurse Carrero_Contreras_Tania_Maryely works in shift 21 on 2023-01-04 (afternoon--T1--1) with vacation [16, 17, 18, 19, 20, 21, 22, 23, 24, 25, 26, 27, 28, 29, 30, 31] and days off [1, 7, 8, 21, 29].\n",
      "Nurse Carrero_Contreras_Tania_Maryely works in shift 28 on 2023-01-05 (afternoon--T2--1) with vacation [16, 17, 18, 19, 20, 21, 22, 23, 24, 25, 26, 27, 28, 29, 30, 31] and days off [1, 7, 8, 21, 29].\n",
      "Nurse Carrero_Contreras_Tania_Maryely works in shift 51 on 2023-01-09 (afternoon--T1--1) with vacation [16, 17, 18, 19, 20, 21, 22, 23, 24, 25, 26, 27, 28, 29, 30, 31] and days off [1, 7, 8, 21, 29].\n",
      "Nurse Carrero_Contreras_Tania_Maryely works in shift 59 on 2023-01-10 (afternoon--CHX--1) with vacation [16, 17, 18, 19, 20, 21, 22, 23, 24, 25, 26, 27, 28, 29, 30, 31] and days off [1, 7, 8, 21, 29].\n",
      "Nurse Carrero_Contreras_Tania_Maryely works in shift 64 on 2023-01-11 (afternoon--T2--1) with vacation [16, 17, 18, 19, 20, 21, 22, 23, 24, 25, 26, 27, 28, 29, 30, 31] and days off [1, 7, 8, 21, 29].\n",
      "Nurse Carrero_Contreras_Tania_Maryely works in shift 70 on 2023-01-12 (afternoon--T2--1) with vacation [16, 17, 18, 19, 20, 21, 22, 23, 24, 25, 26, 27, 28, 29, 30, 31] and days off [1, 7, 8, 21, 29].\n",
      "Nurse Carrero_Contreras_Tania_Maryely works in shift 75 on 2023-01-13 (afternoon--T1--1) with vacation [16, 17, 18, 19, 20, 21, 22, 23, 24, 25, 26, 27, 28, 29, 30, 31] and days off [1, 7, 8, 21, 29].\n",
      "Nurse Carrero_Contreras_Tania_Maryely works in shift 87 on 2023-01-15 (afternoon--T1--1) with vacation [16, 17, 18, 19, 20, 21, 22, 23, 24, 25, 26, 27, 28, 29, 30, 31] and days off [1, 7, 8, 21, 29].\n",
      "Nurse Ballesteros_Mesa_Jeimy_Catalina works in shift 11 on 2023-01-02 (afternoon--CHX--1) with vacation [] and days off [1, 7, 14, 15, 29].\n",
      "Nurse Ballesteros_Mesa_Jeimy_Catalina works in shift 34 on 2023-01-06 (afternoon--T2--1) with vacation [] and days off [1, 7, 14, 15, 29].\n",
      "Nurse Ballesteros_Mesa_Jeimy_Catalina works in shift 45 on 2023-01-08 (afternoon--T1--1) with vacation [] and days off [1, 7, 14, 15, 29].\n",
      "Nurse Ballesteros_Mesa_Jeimy_Catalina works in shift 57 on 2023-01-10 (afternoon--T1--1) with vacation [] and days off [1, 7, 14, 15, 29].\n",
      "Nurse Ballesteros_Mesa_Jeimy_Catalina works in shift 65 on 2023-01-11 (afternoon--CHX--1) with vacation [] and days off [1, 7, 14, 15, 29].\n",
      "Nurse Ballesteros_Mesa_Jeimy_Catalina works in shift 71 on 2023-01-12 (afternoon--CHX--1) with vacation [] and days off [1, 7, 14, 15, 29].\n",
      "Nurse Ballesteros_Mesa_Jeimy_Catalina works in shift 76 on 2023-01-13 (afternoon--T2--1) with vacation [] and days off [1, 7, 14, 15, 29].\n",
      "Nurse Ballesteros_Mesa_Jeimy_Catalina works in shift 93 on 2023-01-16 (afternoon--T1--1) with vacation [] and days off [1, 7, 14, 15, 29].\n",
      "Nurse Ballesteros_Mesa_Jeimy_Catalina works in shift 100 on 2023-01-17 (afternoon--T2--1) with vacation [] and days off [1, 7, 14, 15, 29].\n",
      "Nurse Ballesteros_Mesa_Jeimy_Catalina works in shift 106 on 2023-01-18 (afternoon--T2--1) with vacation [] and days off [1, 7, 14, 15, 29].\n",
      "Nurse Ballesteros_Mesa_Jeimy_Catalina works in shift 112 on 2023-01-19 (afternoon--T2--1) with vacation [] and days off [1, 7, 14, 15, 29].\n",
      "Nurse Ballesteros_Mesa_Jeimy_Catalina works in shift 117 on 2023-01-20 (afternoon--T1--1) with vacation [] and days off [1, 7, 14, 15, 29].\n",
      "Nurse Ballesteros_Mesa_Jeimy_Catalina works in shift 123 on 2023-01-21 (afternoon--T1--1) with vacation [] and days off [1, 7, 14, 15, 29].\n",
      "Nurse Ballesteros_Mesa_Jeimy_Catalina works in shift 135 on 2023-01-23 (afternoon--T1--1) with vacation [] and days off [1, 7, 14, 15, 29].\n",
      "Nurse Ballesteros_Mesa_Jeimy_Catalina works in shift 142 on 2023-01-24 (afternoon--T2--1) with vacation [] and days off [1, 7, 14, 15, 29].\n",
      "Nurse Ballesteros_Mesa_Jeimy_Catalina works in shift 147 on 2023-01-25 (afternoon--T1--1) with vacation [] and days off [1, 7, 14, 15, 29].\n",
      "Nurse Ballesteros_Mesa_Jeimy_Catalina works in shift 153 on 2023-01-26 (afternoon--T1--1) with vacation [] and days off [1, 7, 14, 15, 29].\n",
      "Nurse Ballesteros_Mesa_Jeimy_Catalina works in shift 159 on 2023-01-27 (afternoon--T1--1) with vacation [] and days off [1, 7, 14, 15, 29].\n",
      "Nurse Ballesteros_Mesa_Jeimy_Catalina works in shift 165 on 2023-01-28 (afternoon--T1--1) with vacation [] and days off [1, 7, 14, 15, 29].\n",
      "Nurse Ballesteros_Mesa_Jeimy_Catalina works in shift 178 on 2023-01-30 (afternoon--T2--1) with vacation [] and days off [1, 7, 14, 15, 29].\n",
      "Nurse Ballesteros_Mesa_Jeimy_Catalina works in shift 183 on 2023-01-31 (afternoon--T1--1) with vacation [] and days off [1, 7, 14, 15, 29].\n",
      "Nurse Barrera_Castillo_Jenny_Lorena works in shift 2 on 2023-01-01 (morning--DISP--1) with vacation [] and days off [8, 14, 22, 28].\n",
      "Nurse Barrera_Castillo_Jenny_Lorena works in shift 10 on 2023-01-02 (afternoon--T2--1) with vacation [] and days off [8, 14, 22, 28].\n",
      "Nurse Barrera_Castillo_Jenny_Lorena works in shift 16 on 2023-01-03 (afternoon--T2--1) with vacation [] and days off [8, 14, 22, 28].\n",
      "Nurse Barrera_Castillo_Jenny_Lorena works in shift 23 on 2023-01-04 (afternoon--CHX--1) with vacation [] and days off [8, 14, 22, 28].\n",
      "Nurse Barrera_Castillo_Jenny_Lorena works in shift 29 on 2023-01-05 (afternoon--CHX--1) with vacation [] and days off [8, 14, 22, 28].\n",
      "Nurse Barrera_Castillo_Jenny_Lorena works in shift 35 on 2023-01-06 (afternoon--CHX--1) with vacation [] and days off [8, 14, 22, 28].\n",
      "Nurse Barrera_Castillo_Jenny_Lorena works in shift 54 on 2023-01-10 (morning--M--2) with vacation [] and days off [8, 14, 22, 28].\n",
      "Nurse Barrera_Castillo_Jenny_Lorena works in shift 86 on 2023-01-15 (morning--DISP--1) with vacation [] and days off [8, 14, 22, 28].\n",
      "Nurse Barrera_Castillo_Jenny_Lorena works in shift 91 on 2023-01-16 (morning--COM--1) with vacation [] and days off [8, 14, 22, 28].\n",
      "Nurse Barrera_Castillo_Jenny_Lorena works in shift 97 on 2023-01-17 (morning--COM--1) with vacation [] and days off [8, 14, 22, 28].\n",
      "Nurse Barrera_Castillo_Jenny_Lorena works in shift 103 on 2023-01-18 (morning--COM--1) with vacation [] and days off [8, 14, 22, 28].\n",
      "Nurse Barrera_Castillo_Jenny_Lorena works in shift 108 on 2023-01-19 (morning--M--2) with vacation [] and days off [8, 14, 22, 28].\n",
      "Nurse Barrera_Castillo_Jenny_Lorena works in shift 120 on 2023-01-21 (morning--M--1) with vacation [] and days off [8, 14, 22, 28].\n",
      "Nurse Barrera_Castillo_Jenny_Lorena works in shift 132 on 2023-01-23 (morning--M--2) with vacation [] and days off [8, 14, 22, 28].\n",
      "Nurse Barrera_Castillo_Jenny_Lorena works in shift 139 on 2023-01-24 (morning--COM--1) with vacation [] and days off [8, 14, 22, 28].\n",
      "Nurse Barrera_Castillo_Jenny_Lorena works in shift 144 on 2023-01-25 (morning--M--2) with vacation [] and days off [8, 14, 22, 28].\n",
      "Nurse Barrera_Castillo_Jenny_Lorena works in shift 156 on 2023-01-27 (morning--M--2) with vacation [] and days off [8, 14, 22, 28].\n",
      "Nurse Barrera_Castillo_Jenny_Lorena works in shift 170 on 2023-01-29 (morning--DISP--1) with vacation [] and days off [8, 14, 22, 28].\n",
      "Nurse Barrera_Castillo_Jenny_Lorena works in shift 175 on 2023-01-30 (morning--COM--1) with vacation [] and days off [8, 14, 22, 28].\n",
      "Nurse Barrera_Castillo_Jenny_Lorena works in shift 180 on 2023-01-31 (morning--M--2) with vacation [] and days off [8, 14, 22, 28].\n",
      "Nurse Murcia_Maira_Alejandra works in shift 7 on 2023-01-02 (morning--COM--1) with vacation [] and days off [1, 7, 15, 21, 28, 29].\n",
      "Nurse Murcia_Maira_Alejandra works in shift 31 on 2023-01-06 (morning--COM--1) with vacation [] and days off [1, 7, 15, 21, 28, 29].\n",
      "Nurse Murcia_Maira_Alejandra works in shift 44 on 2023-01-08 (morning--DISP--1) with vacation [] and days off [1, 7, 15, 21, 28, 29].\n",
      "Nurse Murcia_Maira_Alejandra works in shift 48 on 2023-01-09 (morning--M--1) with vacation [] and days off [1, 7, 15, 21, 28, 29].\n",
      "Nurse Murcia_Maira_Alejandra works in shift 55 on 2023-01-10 (morning--COM--1) with vacation [] and days off [1, 7, 15, 21, 28, 29].\n",
      "Nurse Murcia_Maira_Alejandra works in shift 61 on 2023-01-11 (morning--COM--1) with vacation [] and days off [1, 7, 15, 21, 28, 29].\n",
      "Nurse Murcia_Maira_Alejandra works in shift 67 on 2023-01-12 (morning--COM--1) with vacation [] and days off [1, 7, 15, 21, 28, 29].\n",
      "Nurse Murcia_Maira_Alejandra works in shift 72 on 2023-01-13 (morning--M--2) with vacation [] and days off [1, 7, 15, 21, 28, 29].\n",
      "Nurse Murcia_Maira_Alejandra works in shift 80 on 2023-01-14 (morning--DISP--1) with vacation [] and days off [1, 7, 15, 21, 28, 29].\n",
      "Nurse Murcia_Maira_Alejandra works in shift 102 on 2023-01-18 (morning--M--2) with vacation [] and days off [1, 7, 15, 21, 28, 29].\n",
      "Nurse Murcia_Maira_Alejandra works in shift 109 on 2023-01-19 (morning--COM--1) with vacation [] and days off [1, 7, 15, 21, 28, 29].\n",
      "Nurse Murcia_Maira_Alejandra works in shift 115 on 2023-01-20 (morning--COM--1) with vacation [] and days off [1, 7, 15, 21, 28, 29].\n",
      "Nurse Murcia_Maira_Alejandra works in shift 128 on 2023-01-22 (morning--DISP--1) with vacation [] and days off [1, 7, 15, 21, 28, 29].\n",
      "Nurse Murcia_Maira_Alejandra works in shift 132 on 2023-01-23 (morning--M--2) with vacation [] and days off [1, 7, 15, 21, 28, 29].\n",
      "Nurse Murcia_Maira_Alejandra works in shift 138 on 2023-01-24 (morning--M--2) with vacation [] and days off [1, 7, 15, 21, 28, 29].\n",
      "Nurse Murcia_Maira_Alejandra works in shift 151 on 2023-01-26 (morning--COM--1) with vacation [] and days off [1, 7, 15, 21, 28, 29].\n",
      "Nurse Murcia_Maira_Alejandra works in shift 157 on 2023-01-27 (morning--COM--1) with vacation [] and days off [1, 7, 15, 21, 28, 29].\n",
      "Nurse Murcia_Maira_Alejandra works in shift 162 on 2023-01-28 (morning--M--1) with vacation [] and days off [1, 7, 15, 21, 28, 29].\n",
      "Nurse Murcia_Maira_Alejandra works in shift 180 on 2023-01-31 (morning--M--2) with vacation [] and days off [1, 7, 15, 21, 28, 29].\n",
      "Nurse Molano_Tovar_Sandra_Johana works in shift 6 on 2023-01-02 (morning--M--2) with vacation [] and days off [1, 7, 15, 21, 28, 29, 31].\n",
      "Nurse Molano_Tovar_Sandra_Johana works in shift 13 on 2023-01-03 (morning--COM--1) with vacation [] and days off [1, 7, 15, 21, 28, 29, 31].\n",
      "Nurse Molano_Tovar_Sandra_Johana works in shift 18 on 2023-01-04 (morning--M--2) with vacation [] and days off [1, 7, 15, 21, 28, 29, 31].\n",
      "Nurse Molano_Tovar_Sandra_Johana works in shift 24 on 2023-01-05 (morning--M--2) with vacation [] and days off [1, 7, 15, 21, 28, 29, 31].\n",
      "Nurse Molano_Tovar_Sandra_Johana works in shift 30 on 2023-01-06 (morning--M--2) with vacation [] and days off [1, 7, 15, 21, 28, 29, 31].\n",
      "Nurse Molano_Tovar_Sandra_Johana works in shift 42 on 2023-01-08 (morning--M--1) with vacation [] and days off [1, 7, 15, 21, 28, 29, 31].\n",
      "Nurse Molano_Tovar_Sandra_Johana works in shift 58 on 2023-01-10 (afternoon--T2--1) with vacation [] and days off [1, 7, 15, 21, 28, 29, 31].\n",
      "Nurse Molano_Tovar_Sandra_Johana works in shift 63 on 2023-01-11 (afternoon--T1--1) with vacation [] and days off [1, 7, 15, 21, 28, 29, 31].\n",
      "Nurse Molano_Tovar_Sandra_Johana works in shift 69 on 2023-01-12 (afternoon--T1--1) with vacation [] and days off [1, 7, 15, 21, 28, 29, 31].\n",
      "Nurse Molano_Tovar_Sandra_Johana works in shift 77 on 2023-01-13 (afternoon--CHX--1) with vacation [] and days off [1, 7, 15, 21, 28, 29, 31].\n",
      "Nurse Molano_Tovar_Sandra_Johana works in shift 81 on 2023-01-14 (afternoon--T1--1) with vacation [] and days off [1, 7, 15, 21, 28, 29, 31].\n",
      "Nurse Molano_Tovar_Sandra_Johana works in shift 94 on 2023-01-16 (afternoon--T2--1) with vacation [] and days off [1, 7, 15, 21, 28, 29, 31].\n",
      "Nurse Molano_Tovar_Sandra_Johana works in shift 101 on 2023-01-17 (afternoon--CHX--1) with vacation [] and days off [1, 7, 15, 21, 28, 29, 31].\n",
      "Nurse Molano_Tovar_Sandra_Johana works in shift 105 on 2023-01-18 (afternoon--T1--1) with vacation [] and days off [1, 7, 15, 21, 28, 29, 31].\n",
      "Nurse Molano_Tovar_Sandra_Johana works in shift 111 on 2023-01-19 (afternoon--T1--1) with vacation [] and days off [1, 7, 15, 21, 28, 29, 31].\n",
      "Nurse Molano_Tovar_Sandra_Johana works in shift 119 on 2023-01-20 (afternoon--CHX--1) with vacation [] and days off [1, 7, 15, 21, 28, 29, 31].\n",
      "Nurse Molano_Tovar_Sandra_Johana works in shift 129 on 2023-01-22 (afternoon--T1--1) with vacation [] and days off [1, 7, 15, 21, 28, 29, 31].\n",
      "Nurse Molano_Tovar_Sandra_Johana works in shift 137 on 2023-01-23 (afternoon--CHX--1) with vacation [] and days off [1, 7, 15, 21, 28, 29, 31].\n",
      "Nurse Molano_Tovar_Sandra_Johana works in shift 141 on 2023-01-24 (afternoon--T1--1) with vacation [] and days off [1, 7, 15, 21, 28, 29, 31].\n",
      "Nurse Molano_Tovar_Sandra_Johana works in shift 149 on 2023-01-25 (afternoon--CHX--1) with vacation [] and days off [1, 7, 15, 21, 28, 29, 31].\n",
      "Nurse Molano_Tovar_Sandra_Johana works in shift 154 on 2023-01-26 (afternoon--T2--1) with vacation [] and days off [1, 7, 15, 21, 28, 29, 31].\n",
      "Nurse Molano_Tovar_Sandra_Johana works in shift 160 on 2023-01-27 (afternoon--T2--1) with vacation [] and days off [1, 7, 15, 21, 28, 29, 31].\n",
      "Nurse Molano_Tovar_Sandra_Johana works in shift 174 on 2023-01-30 (morning--M--2) with vacation [] and days off [1, 7, 15, 21, 28, 29, 31].\n"
     ]
    }
   ],
   "source": [
    "for i in I:\n",
    "    for j in J:\n",
    "        if (i, j) in valid_keys and X[i, j].varValue > 0.5:\n",
    "            print(f\"Nurse {nurses[i].nurse_name} works in shift {shifts[j].shift_id} on {shifts[j].shift_date} ({shifts[j].shift_type}--{shifts[j].shift}--{shifts[j].demand}) with vacation {nurses[i].vacations} and days off {nurses[i].dates_off}.\")"
   ]
  }
 ],
 "metadata": {
  "kernelspec": {
   "display_name": "Python 3",
   "language": "python",
   "name": "python3"
  },
  "language_info": {
   "codemirror_mode": {
    "name": "ipython",
    "version": 3
   },
   "file_extension": ".py",
   "mimetype": "text/x-python",
   "name": "python",
   "nbconvert_exporter": "python",
   "pygments_lexer": "ipython3",
   "version": "3.9.16"
  },
  "orig_nbformat": 4
 },
 "nbformat": 4,
 "nbformat_minor": 2
}
