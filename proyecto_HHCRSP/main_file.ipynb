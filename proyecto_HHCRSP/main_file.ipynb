{
 "cells": [
  {
   "cell_type": "code",
   "execution_count": 404,
   "metadata": {},
   "outputs": [],
   "source": [
    "# import classes from folder app/classes.py\n",
    "from app.libs.classes import Shift, Nurse\n",
    "import json\n"
   ]
  },
  {
   "cell_type": "code",
   "execution_count": 405,
   "metadata": {},
   "outputs": [],
   "source": [
    "with open('data/shifts.json', 'r') as f:\n",
    "    shifts = json.load(f)\n",
    "\n",
    "shifts = {shift['shift_id']: Shift(**shift) for shift in shifts}\n"
   ]
  },
  {
   "cell_type": "code",
   "execution_count": 406,
   "metadata": {},
   "outputs": [
    {
     "data": {
      "text/plain": [
       "{1: Nurse(nurse_id=1, nurse_name='Otalora_Castro_Rocio_del_Pilar', shift_preference='morning', accumulated_hours=-53.0, morning_availability_labor_day=1, morning_availability_weekend=1, afternoon_availability_labor_day=0, afternoon_availability_weekend=1, dates_off=[8, 14, 21, 22, 28], vacations=[]),\n",
       " 2: Nurse(nurse_id=2, nurse_name='Lina_Mabel_Torres_Pulido', shift_preference='morning', accumulated_hours=-21.0, morning_availability_labor_day=1, morning_availability_weekend=1, afternoon_availability_labor_day=0, afternoon_availability_weekend=1, dates_off=[8, 15], vacations=[1, 2]),\n",
       " 3: Nurse(nurse_id=3, nurse_name='Rodriguez_Bohorquez_Luz_Dary', shift_preference='afternoon', accumulated_hours=-33.5, morning_availability_labor_day=1, morning_availability_weekend=1, afternoon_availability_labor_day=0, afternoon_availability_weekend=1, dates_off=[8, 14, 21, 22, 28], vacations=[]),\n",
       " 4: Nurse(nurse_id=4, nurse_name='Carrero_Contreras_Tania_Maryely', shift_preference='afternoon', accumulated_hours=-51.5, morning_availability_labor_day=0, morning_availability_weekend=1, afternoon_availability_labor_day=1, afternoon_availability_weekend=1, dates_off=[1, 7, 8, 21, 29], vacations=[16, 17, 18, 19, 20, 21, 22, 23, 24, 25, 26, 27, 28, 29, 30, 31]),\n",
       " 5: Nurse(nurse_id=5, nurse_name='Ballesteros_Mesa_Jeimy_Catalina', shift_preference='afternoon', accumulated_hours=-60.5, morning_availability_labor_day=0, morning_availability_weekend=1, afternoon_availability_labor_day=1, afternoon_availability_weekend=1, dates_off=[1, 7, 14, 15, 29], vacations=[]),\n",
       " 6: Nurse(nurse_id=6, nurse_name='Barrera_Castillo_Jenny_Lorena', shift_preference='morning', accumulated_hours=-48.5, morning_availability_labor_day=1, morning_availability_weekend=1, afternoon_availability_labor_day=1, afternoon_availability_weekend=1, dates_off=[8, 14, 22, 28], vacations=[]),\n",
       " 7: Nurse(nurse_id=7, nurse_name='Murcia_Maira_Alejandra', shift_preference='morning', accumulated_hours=0.0, morning_availability_labor_day=0, morning_availability_weekend=1, afternoon_availability_labor_day=0, afternoon_availability_weekend=1, dates_off=[1, 7, 15, 21, 28, 29], vacations=[]),\n",
       " 8: Nurse(nurse_id=8, nurse_name='Molano_Tovar_Sandra_Johana', shift_preference='afternoon', accumulated_hours=-18.0, morning_availability_labor_day=0, morning_availability_weekend=1, afternoon_availability_labor_day=1, afternoon_availability_weekend=1, dates_off=[1, 7, 15, 21, 28, 29, 31], vacations=[])}"
      ]
     },
     "execution_count": 406,
     "metadata": {},
     "output_type": "execute_result"
    }
   ],
   "source": [
    "with open('data/nurses.json', 'r') as f:\n",
    "    nurses = json.load(f)\n",
    "\n",
    "nurses = {nurse['nurse_id']: Nurse(**nurse) for nurse in nurses}\n",
    "nurses"
   ]
  },
  {
   "cell_type": "markdown",
   "metadata": {},
   "source": [
    "# Additional parameters "
   ]
  },
  {
   "cell_type": "code",
   "execution_count": 407,
   "metadata": {},
   "outputs": [],
   "source": [
    "DM = 8\n",
    "HMM = 216"
   ]
  },
  {
   "cell_type": "markdown",
   "metadata": {},
   "source": [
    "# Modelo"
   ]
  },
  {
   "cell_type": "code",
   "execution_count": 408,
   "metadata": {},
   "outputs": [],
   "source": [
    "from datetime import datetime, timedelta\n",
    "from math import floor\n",
    "from typing import Dict\n",
    "\n",
    "from app.libs.classes import Shift, Nurse\n",
    "from app.libs.constants import HMM, DM\n",
    "import pulp as plp\n",
    "from itertools import product"
   ]
  },
  {
   "cell_type": "code",
   "execution_count": 409,
   "metadata": {},
   "outputs": [
    {
     "name": "stderr",
     "output_type": "stream",
     "text": [
      "/Users/user/.pyenv/versions/3.9.16/lib/python3.9/site-packages/pulp/pulp.py:1352: UserWarning: Spaces are not permitted in the name. Converted to '_'\n",
      "  warnings.warn(\"Spaces are not permitted in the name. Converted to '_'\")\n"
     ]
    }
   ],
   "source": [
    "import pulp as plp\n",
    "\n",
    "model = plp.LpProblem(\"Nurse Scheduling\", plp.LpMinimize)\n",
    "I = set(nurses.keys())\n",
    "J = set(shifts.keys())\n",
    "K = set([datetime.strptime(shifts[j].shift_date, '%Y-%m-%d').day for j in J])\n",
    "week=set([datetime.strptime(shifts[j].shift_date, '%Y-%m-%d').isocalendar()[1] for j in J])\n",
    "\n",
    "valid_keys = [(i, j) for (i,j) in product(I, J) if datetime.strptime(shifts[j].shift_date, '%Y-%m-%d').day not in nurses[i].vacations]\n"
   ]
  },
  {
   "cell_type": "code",
   "execution_count": 410,
   "metadata": {},
   "outputs": [],
   "source": [
    "X = plp.LpVariable.dicts(\"X\", valid_keys, cat=plp.LpBinary)\n",
    "W = plp.LpVariable.dicts(\"W\", [(i, k) for (i,k) in product(I, K)], cat=plp.LpBinary)\n",
    "Zmorning=plp.LpVariable.dicts(\"Zmorning\", [(i, w) for (i,w) in product(I, week)], cat=plp.LpBinary)\n",
    "Zafternoon=plp.LpVariable.dicts(\"Zafternoon\", [(i, w) for (i,w) in product(I, week)], cat=plp.LpBinary)\n",
    "\n",
    "V = plp.LpVariable.dicts(\"V\", I, cat=plp.LpContinuous,lowBound=0)  # overtime\n",
    "Y = plp.LpVariable.dicts(\"Y\", I, cat=plp.LpContinuous,lowBound=0) # TOTAL NUMBER OF SHIFTS ASSIGNED TO NURSE i\n",
    "MDH = plp.LpVariable(\"MDH\", cat=plp.LpContinuous,lowBound=0) # MAXIMUM DIFFERENCE BETWEEN MAXIMUM SHIFTS AND REAL NUMBER OF SHIFTS ASSIGNED\n",
    "DOff = plp.LpVariable.dicts(\"DOff\", I, cat=plp.LpContinuous,lowBound=0) \n"
   ]
  },
  {
   "cell_type": "markdown",
   "metadata": {},
   "source": [
    "# Objective function"
   ]
  },
  {
   "cell_type": "code",
   "execution_count": 411,
   "metadata": {},
   "outputs": [],
   "source": [
    "expr_PDL = plp.lpSum([(X[i, j] for (i,j) in valid_keys if datetime.strptime(shifts[j].shift_date, '%Y-%m-%d').day in nurses[i].dates_off)])\n",
    "# accounts for the number of weekends a person is assigned to a shif not in his/her preference\n",
    "expr_PWE = plp.lpSum([(X[i, j]) for (i,j) in valid_keys if\n",
    "                        datetime.strptime(shifts[j].shift_date, '%Y-%m-%d').weekday() in [5, 6] and\n",
    "                        (nurses[i].shift_preference != shifts[j].shift_type)])\n",
    "\n",
    "Obj_2 = MDH + plp.lpSum([V[i] for i in I]) * (1 / DM)"
   ]
  },
  {
   "cell_type": "code",
   "execution_count": 412,
   "metadata": {},
   "outputs": [],
   "source": [
    "# accounts the number of shifts assigned to a nurse\n",
    "for nurse in I:\n",
    "    model+=Y[nurse] == plp.lpSum([X[nurse, shift] for shift in J if (nurse, shift) in valid_keys]), f\"assigned_shifts_{nurse}\""
   ]
  },
  {
   "cell_type": "code",
   "execution_count": 413,
   "metadata": {},
   "outputs": [],
   "source": [
    " # accounts for the difference between shifts that should be assigned to a caregiver \n",
    "            # (considering overtime hours to be balanced) and real number of shifts assigned\n",
    "\n",
    "for nurse in I:\n",
    "    expr = Y[nurse] - (HMM - nurses[nurse].accumulated_hours) * (1 / DM) <= MDH\n",
    "    model += expr, f\"balance_hours_1_{nurses[nurse].nurse_id}\"\n",
    "\n",
    "    expr = (HMM - nurses[nurse].accumulated_hours) * (1 / DM) - Y[nurse]<= MDH\n",
    "    model += expr,  f\"balance_hours_2_{nurses[nurse].nurse_id}\"\n",
    "    "
   ]
  },
  {
   "cell_type": "code",
   "execution_count": 414,
   "metadata": {},
   "outputs": [],
   "source": [
    "# dictionary enumerating the shifts happening in each day\n",
    "shifts_per_day = {}\n",
    "for shift in J:\n",
    "    if shifts[shift].shift_date not in shifts_per_day:\n",
    "        shifts_per_day[shifts[shift].shift_date] = []\n",
    "    shifts_per_day[shifts[shift].shift_date].append(shift)\n"
   ]
  },
  {
   "cell_type": "code",
   "execution_count": 415,
   "metadata": {},
   "outputs": [],
   "source": [
    "for i in I:\n",
    "    for spd in shifts_per_day.keys():\n",
    "        model += plp.lpSum([X[i, j] for j in shifts_per_day[spd] if (i, j) in valid_keys]) <= 1, f\"one_shift_per_day_{nurses[i].nurse_id}_{spd}\"\n"
   ]
  },
  {
   "cell_type": "code",
   "execution_count": 416,
   "metadata": {},
   "outputs": [],
   "source": [
    "# accounts for overtime V hours required\n",
    "for i in I:\n",
    "    model += Y[i] * DM <= (HMM - nurses[i].accumulated_hours) + V[i], f\"overtime_{nurses[i].nurse_id}\""
   ]
  },
  {
   "cell_type": "code",
   "execution_count": 417,
   "metadata": {},
   "outputs": [],
   "source": [
    "# demand is satisfied\n",
    "for j in J:\n",
    "    model += plp.lpSum([X[(i, j)] for i in I if (i, j) in valid_keys]) >= shifts[j].demand, f\"demand_{j}\"\n",
    "        "
   ]
  },
  {
   "cell_type": "code",
   "execution_count": 418,
   "metadata": {},
   "outputs": [],
   "source": [
    "# for each weekend, a nurse works at most one day\n",
    "for i in I:\n",
    "    for j1 in J:\n",
    "        if (i, j1) in valid_keys and datetime.strptime(shifts[j1].shift_date,'%Y-%m-%d').weekday() == 5:\n",
    "            model += X[i, j1] + plp.lpSum([X[i, j2] for j2 in J if\n",
    "                                                        (i, j2) in valid_keys and datetime.strptime(shifts[j2].shift_date, '%Y-%m-%d').weekday() == 6\n",
    "                                                        and datetime.strptime(shifts[j2].shift_date,'%Y-%m-%d') == datetime.strptime(shifts[j1].shift_date, '%Y-%m-%d') + timedelta(days=1)]) <= 1, f\"weekend_{nurses[i].nurse_id}_{j1}\"\n"
   ]
  },
  {
   "cell_type": "code",
   "execution_count": 419,
   "metadata": {},
   "outputs": [],
   "source": [
    "for i,k in product(I, K):\n",
    "    model += (1 - plp.lpSum([X[i, j] for j in J if (i, j) in valid_keys and datetime.strptime(shifts[j].shift_date, '%Y-%m-%d').day == k])) ==W[i, k], f\"day_is_off_{nurses[i].nurse_id}_{k}\""
   ]
  },
  {
   "cell_type": "code",
   "execution_count": 420,
   "metadata": {},
   "outputs": [],
   "source": [
    "days = list([datetime.strptime(shifts[j].shift_date, '%Y-%m-%d').day for j in J if datetime.strptime(shifts[j].shift_date, '%Y-%m-%d').weekday() in [5, 6]])\n",
    "\n",
    "total_weekend_days = len(days)\n",
    "\n",
    "for i in I:\n",
    "    model += DOff[i] == plp.lpSum([W[i, k] for k in days]), f\"weekend_off_1_{nurses[i].nurse_id}\"\n",
    "    model += DOff[i] >= floor(total_weekend_days / 2) + 1, f\"weekend_off_2_{nurses[i].nurse_id}\""
   ]
  },
  {
   "cell_type": "code",
   "execution_count": 421,
   "metadata": {},
   "outputs": [],
   "source": [
    "for i,w in product(I, week):\n",
    "    model += Zmorning[i, w] + Zafternoon[i, w] <= 1, f\"shifts_per_week_{nurses[i].nurse_id}_{w}\""
   ]
  },
  {
   "cell_type": "code",
   "execution_count": 422,
   "metadata": {},
   "outputs": [],
   "source": [
    "# if a nurse works in a morning shift the varriable Z_morning is equal to 1\n",
    "for i in I:\n",
    "    for j in J:\n",
    "        if (i, j) in valid_keys and shifts[j].shift_type == 'morning':\n",
    "            model +=  X[i, j]<=Zmorning[i, datetime.strptime(shifts[j].shift_date, '%Y-%m-%d').isocalendar()[1]], f\"morning_shift_{nurses[i].nurse_id}_{j}\"\n",
    "        elif (i, j) in valid_keys and shifts[j].shift_type == 'afternoon':\n",
    "            model +=  X[i, j]<=Zafternoon[i, datetime.strptime(shifts[j].shift_date, '%Y-%m-%d').isocalendar()[1]], f\"afternoon_shift_{nurses[i].nurse_id}_{j}\""
   ]
  },
  {
   "cell_type": "code",
   "execution_count": 423,
   "metadata": {},
   "outputs": [],
   "source": [
    "#an afternoon shift cannot be followed by a morning shift\n",
    "for i in I:\n",
    "    for j in J:\n",
    "        if (i, j) in valid_keys and shifts[j].shift_type == 'morning':\n",
    "            model +=  X[i, j] + plp.lpSum([X[i, j2] for j2 in J if\n",
    "                                                        (i, j2) in valid_keys and datetime.strptime(shifts[j2].shift_date, '%Y-%m-%d') == datetime.strptime(shifts[j].shift_date, '%Y-%m-%d') - timedelta(days=1)\n",
    "                                                        and shifts[j2].shift_type == 'afternoon']) <= 1, f\"morning_afternoon_{nurses[i].nurse_id}_{j}\""
   ]
  },
  {
   "cell_type": "code",
   "execution_count": null,
   "metadata": {},
   "outputs": [],
   "source": []
  },
  {
   "cell_type": "code",
   "execution_count": 424,
   "metadata": {},
   "outputs": [],
   "source": [
    "#\n",
    "model.setObjective(expr_PDL+expr_PWE)\n"
   ]
  },
  {
   "cell_type": "code",
   "execution_count": 425,
   "metadata": {},
   "outputs": [
    {
     "data": {
      "text/plain": [
       "1"
      ]
     },
     "execution_count": 425,
     "metadata": {},
     "output_type": "execute_result"
    }
   ],
   "source": [
    "# solve the problem using HIGHS\n",
    "solver = plp.GUROBI_CMD(msg=0)\n",
    "model.solve(solver)\n",
    "#Obj_2 = MDH + plp.lpSum([V[i] for i in I]) * (1 / DM)\n"
   ]
  },
  {
   "cell_type": "code",
   "execution_count": 426,
   "metadata": {},
   "outputs": [
    {
     "name": "stdout",
     "output_type": "stream",
     "text": [
      "4.0\n"
     ]
    }
   ],
   "source": [
    "print(model.objective.value())"
   ]
  },
  {
   "cell_type": "code",
   "execution_count": 427,
   "metadata": {},
   "outputs": [
    {
     "name": "stdout",
     "output_type": "stream",
     "text": [
      "17.75 4.0\n",
      "14.4375 5.0\n",
      "13.4375 6.0\n"
     ]
    }
   ],
   "source": [
    "\n",
    "objective = model.objective.value()\n",
    "epsilon = 1\n",
    "model+= expr_PDL+expr_PWE<=objective + epsilon , \"value_obj_1\"\n",
    "model.setObjective(Obj_2)\n",
    "print(model.objective.value(),objective)\n",
    "while model.status == 1:\n",
    "    model.solve()\n",
    "    print(model.objective.value(),objective + epsilon)\n",
    "    epsilon += 1\n",
    "    ctr = model.constraints[\"value_obj_1\"]\n",
    "    ctr.changeRHS(objective + epsilon)\n",
    "    if objective + epsilon ==7:\n",
    "        break\n",
    "    \n",
    "model.setObjective(Obj_2)"
   ]
  },
  {
   "cell_type": "code",
   "execution_count": 428,
   "metadata": {},
   "outputs": [
    {
     "name": "stdout",
     "output_type": "stream",
     "text": [
      "Nurse Rodriguez_Bohorquez_Luz_Dary works in shift 123 on 2022-05-21 (afternoon--T1--afternoon) with vacation [] and days off [8, 14, 21, 22, 28].\n",
      "Nurse Carrero_Contreras_Tania_Maryely works in shift 3 on 2022-05-01 (afternoon--T1--afternoon) with vacation [16, 17, 18, 19, 20, 21, 22, 23, 24, 25, 26, 27, 28, 29, 30, 31] and days off [1, 7, 8, 21, 29].\n",
      "Nurse Carrero_Contreras_Tania_Maryely works in shift 39 on 2022-05-07 (afternoon--T1--afternoon) with vacation [16, 17, 18, 19, 20, 21, 22, 23, 24, 25, 26, 27, 28, 29, 30, 31] and days off [1, 7, 8, 21, 29].\n",
      "Nurse Ballesteros_Mesa_Jeimy_Catalina works in shift 44 on 2022-05-08 (morning--DISP--afternoon) with vacation [] and days off [1, 7, 14, 15, 29].\n",
      "Nurse Ballesteros_Mesa_Jeimy_Catalina works in shift 126 on 2022-05-22 (morning--M--afternoon) with vacation [] and days off [1, 7, 14, 15, 29].\n",
      "Nurse Murcia_Maira_Alejandra works in shift 162 on 2022-05-28 (morning--M--morning) with vacation [] and days off [1, 7, 15, 21, 28, 29].\n"
     ]
    }
   ],
   "source": [
    "for i in I:\n",
    "    for j in J:\n",
    "        if (i, j) in valid_keys and X[i, j].varValue > 0.5:\n",
    "            if datetime.strptime(shifts[j].shift_date, '%Y-%m-%d').day in [1,7,8,14,15,21,22,28,29] and shifts[j].shift_type!=nurses[i].shift_preference:\n",
    "                print(f\"Nurse {nurses[i].nurse_name} works in shift {shifts[j].shift_id} on {shifts[j].shift_date} ({shifts[j].shift_type}--{shifts[j].shift}--{nurses[i].shift_preference}) with vacation {nurses[i].vacations} and days off {nurses[i].dates_off}.\")\n",
    "            if datetime.strptime(shifts[j].shift_date, '%Y-%m-%d').day in nurses[i].dates_off:\n",
    "                print(f\"Nurse {nurses[i].nurse_name} works in shift {shifts[j].shift_id} on {shifts[j].shift_date} ({shifts[j].shift_type}--{shifts[j].shift}--{nurses[i].shift_preference}) with vacation {nurses[i].vacations} and days off {nurses[i].dates_off}.\")"
   ]
  }
 ],
 "metadata": {
  "kernelspec": {
   "display_name": "Python 3",
   "language": "python",
   "name": "python3"
  },
  "language_info": {
   "codemirror_mode": {
    "name": "ipython",
    "version": 3
   },
   "file_extension": ".py",
   "mimetype": "text/x-python",
   "name": "python",
   "nbconvert_exporter": "python",
   "pygments_lexer": "ipython3",
   "version": "3.9.16"
  },
  "orig_nbformat": 4
 },
 "nbformat": 4,
 "nbformat_minor": 2
}
