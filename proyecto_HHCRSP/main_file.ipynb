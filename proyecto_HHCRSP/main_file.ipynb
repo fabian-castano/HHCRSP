{
 "cells": [
  {
   "cell_type": "code",
   "execution_count": 92,
   "metadata": {},
   "outputs": [],
   "source": [
    "# import classes from folder app/classes.py\n",
    "from app.libs.classes import Shift, Nurse\n",
    "import json\n"
   ]
  },
  {
   "cell_type": "code",
   "execution_count": 93,
   "metadata": {},
   "outputs": [],
   "source": [
    "with open('data/shifts.json', 'r') as f:\n",
    "    shifts = json.load(f)\n",
    "\n",
    "shifts = {shift['shift_id']: Shift(**shift) for shift in shifts}\n"
   ]
  },
  {
   "cell_type": "code",
   "execution_count": 94,
   "metadata": {},
   "outputs": [
    {
     "data": {
      "text/plain": [
       "{1: Nurse(nurse_id=1, nurse_name='Otalora_Castro_Rocio_del_Pilar', shift_preference='morning', accumulated_hours=-9, morning_availability_labor_day=1, morning_availability_weekend=1, afternoon_availability_labor_day=0, afternoon_availability_weekend=1, dates_off=[4, 12, 18, 19], vacations=[]),\n",
       " 2: Nurse(nurse_id=2, nurse_name='Lina_Mabel_Torres_Pulido', shift_preference='morning', accumulated_hours=-26.5, morning_availability_labor_day=1, morning_availability_weekend=1, afternoon_availability_labor_day=0, afternoon_availability_weekend=1, dates_off=[5, 11, 25, 26], vacations=[]),\n",
       " 3: Nurse(nurse_id=3, nurse_name='Rodriguez_Bohorquez_Luz_Dary', shift_preference='afternoon', accumulated_hours=-7, morning_availability_labor_day=1, morning_availability_weekend=1, afternoon_availability_labor_day=0, afternoon_availability_weekend=1, dates_off=[4, 12, 18, 19, 26], vacations=[]),\n",
       " 4: Nurse(nurse_id=4, nurse_name='Carrero_Contreras_Tania_Maryely', shift_preference='morning', accumulated_hours=-25.5, morning_availability_labor_day=0, morning_availability_weekend=1, afternoon_availability_labor_day=1, afternoon_availability_weekend=1, dates_off=[4, 12, 18, 25, 26], vacations=[]),\n",
       " 5: Nurse(nurse_id=5, nurse_name='Ballesteros_Mesa_Jeimy_Catalina', shift_preference='afternoon', accumulated_hours=-21.5, morning_availability_labor_day=0, morning_availability_weekend=1, afternoon_availability_labor_day=1, afternoon_availability_weekend=1, dates_off=[5, 11, 18, 19], vacations=[]),\n",
       " 6: Nurse(nurse_id=6, nurse_name='Barrera_Castillo_Jenny_Lorena', shift_preference='morning', accumulated_hours=-21, morning_availability_labor_day=1, morning_availability_weekend=1, afternoon_availability_labor_day=1, afternoon_availability_weekend=1, dates_off=[0, 4, 12, 18, 26], vacations=[]),\n",
       " 7: Nurse(nurse_id=7, nurse_name='Murcia_Maira_Alejandra', shift_preference='morning', accumulated_hours=-0.5, morning_availability_labor_day=0, morning_availability_weekend=1, afternoon_availability_labor_day=0, afternoon_availability_weekend=1, dates_off=[5, 11, 12, 25], vacations=[]),\n",
       " 8: Nurse(nurse_id=8, nurse_name='Molano_Tovar_Sandra_Johana', shift_preference='morning', accumulated_hours=-0.5, morning_availability_labor_day=0, morning_availability_weekend=1, afternoon_availability_labor_day=1, afternoon_availability_weekend=1, dates_off=[5, 11, 12, 25], vacations=[])}"
      ]
     },
     "execution_count": 94,
     "metadata": {},
     "output_type": "execute_result"
    }
   ],
   "source": [
    "with open('data/nurses.json', 'r') as f:\n",
    "    nurses = json.load(f)\n",
    "\n",
    "nurses = {nurse['nurse_id']: Nurse(**nurse) for nurse in nurses}\n",
    "nurses"
   ]
  },
  {
   "cell_type": "markdown",
   "metadata": {},
   "source": [
    "# Additional parameters "
   ]
  },
  {
   "cell_type": "code",
   "execution_count": 95,
   "metadata": {},
   "outputs": [],
   "source": [
    "DM = 8\n",
    "HMM = 216"
   ]
  },
  {
   "cell_type": "markdown",
   "metadata": {},
   "source": [
    "# Modelo"
   ]
  },
  {
   "cell_type": "code",
   "execution_count": 96,
   "metadata": {},
   "outputs": [],
   "source": [
    "from datetime import datetime, timedelta\n",
    "from math import floor\n",
    "from typing import Dict\n",
    "\n",
    "from app.libs.classes import Shift, Nurse\n",
    "from app.libs.constants import HMM, DM\n",
    "import pulp as plp\n",
    "from itertools import product"
   ]
  },
  {
   "cell_type": "code",
   "execution_count": 97,
   "metadata": {},
   "outputs": [
    {
     "name": "stderr",
     "output_type": "stream",
     "text": [
      "/Users/user/.pyenv/versions/3.9.16/lib/python3.9/site-packages/pulp/pulp.py:1352: UserWarning: Spaces are not permitted in the name. Converted to '_'\n",
      "  warnings.warn(\"Spaces are not permitted in the name. Converted to '_'\")\n"
     ]
    }
   ],
   "source": [
    "import pulp as plp\n",
    "\n",
    "model = plp.LpProblem(\"Nurse Scheduling\", plp.LpMinimize)\n",
    "I = set(nurses.keys())\n",
    "J = set(shifts.keys())\n",
    "K = set([datetime.strptime(shifts[j].shift_date, '%Y-%m-%d').day for j in J])\n",
    "\n",
    "valid_keys = [(i, j) for (i,j) in product(I, J) if datetime.strptime(shifts[j].shift_date, '%Y-%m-%d').day not in nurses[i].vacations]\n"
   ]
  },
  {
   "cell_type": "code",
   "execution_count": 98,
   "metadata": {},
   "outputs": [],
   "source": [
    "X = plp.LpVariable.dicts(\"X\", valid_keys, cat=plp.LpBinary)\n",
    "W = plp.LpVariable.dicts(\"W\", [(i, k) for (i,k) in product(I, K)], cat=plp.LpBinary)\n",
    "\n",
    "V = plp.LpVariable.dicts(\"V\", I, cat=plp.LpContinuous)  # overtime\n",
    "Y = plp.LpVariable.dicts(\"Y\", I, cat=plp.LpContinuous) # TOTAL NUMBER OF SHIFTS ASSIGNED TO NURSE i\n",
    "MDH = plp.LpVariable(\"MDH\", cat=plp.LpContinuous) # MAXIMUM DIFFERENCE BETWEEN MAXIMUM SHIFTS AND REAL NUMBER OF SHIFTS ASSIGNED\n",
    "DOff = plp.LpVariable.dicts(\"DOff\", I, cat=plp.LpContinuous) \n"
   ]
  },
  {
   "cell_type": "markdown",
   "metadata": {},
   "source": [
    "# Objective function"
   ]
  },
  {
   "cell_type": "code",
   "execution_count": 99,
   "metadata": {},
   "outputs": [],
   "source": [
    "expr_PDL = plp.lpSum([(X[i, j] for (i,j) in valid_keys if shifts[j].shift_date in nurses[i].dates_off)])\n",
    "# accounts for the number of weekends a person is assigned to a shif not in his/her preference\n",
    "expr_PWE = plp.lpSum([(X[i, j]) for (i,j) in valid_keys if\n",
    "                        datetime.strptime(shifts[j].shift_date, '%Y-%m-%d').weekday() in [5, 6] and\n",
    "                        (nurses[i].shift_preference != shifts[j].shift_type)])\n",
    "\n",
    "Obj_2 = MDH + plp.lpSum([V[i] for i in I]) * (1 / DM)"
   ]
  },
  {
   "cell_type": "code",
   "execution_count": 100,
   "metadata": {},
   "outputs": [],
   "source": [
    "# accounts the number of shifts assigned to a nurse\n",
    "for nurse in I:\n",
    "    model+=Y[nurse] == plp.lpSum([X[nurse, shift] for shift in J if (nurse, shift) in valid_keys]), f\"assigned_shifts_{nurse}\""
   ]
  },
  {
   "cell_type": "code",
   "execution_count": 101,
   "metadata": {},
   "outputs": [],
   "source": [
    " # accounts for the difference between shifts that should be assigned to a caregiver \n",
    "            # (considering overtime hours to be balanced) and real number of shifts assigned\n",
    "\n",
    "for nurse in I:\n",
    "    model += Y[nurse] - (HMM - nurses[nurse].accumulated_hours) * (1 / DM) <= MDH, f\"balance_hours_1_{nurses[nurse].nurse_id}\"\n",
    "    model += (HMM - nurses[nurse].accumulated_hours) * (1 / DM) - Y[nurse] <= MDH, f\"balance_hours_2_{nurses[nurse].nurse_id}\""
   ]
  },
  {
   "cell_type": "code",
   "execution_count": 102,
   "metadata": {},
   "outputs": [],
   "source": [
    "# dictionary enumerating the shifts happening in each day\n",
    "shifts_per_day = {}\n",
    "for shift in J:\n",
    "    if shifts[shift].shift_date not in shifts_per_day:\n",
    "        shifts_per_day[shifts[shift].shift_date] = []\n",
    "    shifts_per_day[shifts[shift].shift_date].append(shift)\n"
   ]
  },
  {
   "cell_type": "code",
   "execution_count": 103,
   "metadata": {},
   "outputs": [],
   "source": [
    "for i in I:\n",
    "    for spd in shifts_per_day.keys():\n",
    "        model += plp.lpSum([X[i, j] for j in shifts_per_day[spd] if (i, j) in valid_keys]) <= 1, f\"one_shift_per_day_{nurses[i].nurse_id}_{spd}\"\n"
   ]
  },
  {
   "cell_type": "code",
   "execution_count": 104,
   "metadata": {},
   "outputs": [],
   "source": [
    "# accounts for overtime V hours required\n",
    "for i in I:\n",
    "    model += Y[i] * DM <= (HMM - nurses[i].accumulated_hours) + V[i], f\"overtime_{nurses[i].nurse_id}\""
   ]
  },
  {
   "cell_type": "code",
   "execution_count": 105,
   "metadata": {},
   "outputs": [],
   "source": [
    "# demand is satisfied\n",
    "for j in J:\n",
    "    model += plp.lpSum([X[(i, j)] for i in I if (i, j) in valid_keys]) >= shifts[j].demand, f\"demand_{j}\"\n",
    "        "
   ]
  },
  {
   "cell_type": "code",
   "execution_count": 106,
   "metadata": {},
   "outputs": [],
   "source": [
    "# for each weekend, a nurse works at most one day\n",
    "for i in I:\n",
    "    for j1 in J:\n",
    "        if (i, j1) in valid_keys and datetime.strptime(shifts[j1].shift_date,'%Y-%m-%d').weekday() == 5:\n",
    "            model += X[i, j1] + plp.lpSum([X[i, j2] for j2 in J if\n",
    "                                                        (i, j2) in valid_keys and datetime.strptime(shifts[j2].shift_date, '%Y-%m-%d').weekday() == 6\n",
    "                                                        and datetime.strptime(shifts[j2].shift_date,'%Y-%m-%d') == datetime.strptime(shifts[j1].shift_date, '%Y-%m-%d') + timedelta(days=1)]) <= 1, f\"weekend_{nurses[i].nurse_id}_{j1}\"\n"
   ]
  },
  {
   "cell_type": "code",
   "execution_count": 107,
   "metadata": {},
   "outputs": [],
   "source": [
    "for i,k in product(I, K):\n",
    "    model += (1 - plp.lpSum([X[i, j] for j in J if (i, j) in valid_keys and datetime.strptime(shifts[j].shift_date, '%Y-%m-%d').day == k])) ==W[i, k], f\"day_is_off_{nurses[i].nurse_id}_{k}\""
   ]
  },
  {
   "cell_type": "code",
   "execution_count": 108,
   "metadata": {},
   "outputs": [],
   "source": [
    "days = list([datetime.strptime(shifts[j].shift_date, '%Y-%m-%d').day for j in J if datetime.strptime(shifts[j].shift_date, '%Y-%m-%d').weekday() in [5, 6]])\n",
    "\n",
    "total_weekend_days = len(days)\n",
    "\n",
    "for i in I:\n",
    "    model += DOff[i] == plp.lpSum([W[i, k] for k in days]), f\"weekend_off_1_{nurses[i].nurse_id}\"\n",
    "    model += DOff[i] >= floor(total_weekend_days / 2) + 1, f\"weekend_off_2_{nurses[i].nurse_id}\""
   ]
  },
  {
   "cell_type": "code",
   "execution_count": 109,
   "metadata": {},
   "outputs": [
    {
     "name": "stdout",
     "output_type": "stream",
     "text": [
      "Welcome to the CBC MILP Solver \n",
      "Version: 2.10.3 \n",
      "Build Date: Dec 15 2019 \n",
      "\n",
      "command line - /Users/user/.pyenv/versions/3.9.16/lib/python3.9/site-packages/pulp/solverdir/cbc/osx/64/cbc /var/folders/xc/t5gbnt3n5sq5bkg65xw9f1g00000gn/T/c29e47afd5f644f99a6f69e0207e98c1-pulp.mps timeMode elapsed branch printingOptions all solution /var/folders/xc/t5gbnt3n5sq5bkg65xw9f1g00000gn/T/c29e47afd5f644f99a6f69e0207e98c1-pulp.sol (default strategy 1)\n",
      "At line 2 NAME          MODEL\n",
      "At line 3 ROWS\n",
      "At line 927 COLUMNS\n",
      "At line 12089 RHS\n",
      "At line 13012 BOUNDS\n",
      "At line 14775 ENDATA\n",
      "Problem MODEL has 922 rows, 1762 columns and 7688 elements\n",
      "Coin0008I MODEL read with 0 errors\n",
      "Option for timeMode changed from cpu to elapsed\n",
      "Continuous objective value is 0 - 0.01 seconds\n",
      "Cgl0003I 0 fixed, 0 tightened bounds, 233 strengthened rows, 0 substitutions\n",
      "Cgl0003I 0 fixed, 0 tightened bounds, 250 strengthened rows, 0 substitutions\n",
      "Cgl0003I 0 fixed, 0 tightened bounds, 250 strengthened rows, 0 substitutions\n",
      "Cgl0003I 0 fixed, 0 tightened bounds, 248 strengthened rows, 0 substitutions\n",
      "Cgl0003I 0 fixed, 0 tightened bounds, 91 strengthened rows, 0 substitutions\n",
      "Cgl0003I 0 fixed, 0 tightened bounds, 32 strengthened rows, 0 substitutions\n",
      "Cgl0003I 0 fixed, 0 tightened bounds, 32 strengthened rows, 0 substitutions\n",
      "Cgl0003I 0 fixed, 1 tightened bounds, 32 strengthened rows, 0 substitutions\n",
      "Cgl0003I 0 fixed, 31 tightened bounds, 32 strengthened rows, 0 substitutions\n",
      "Cgl0004I processed model has 657 rows, 1280 columns (1280 integer (1280 of which binary)) and 4062 elements\n",
      "Cbc0045I No integer variables out of 1280 objects (1112 integer) have costs\n",
      "Cbc0045I branch on satisfied N create fake objective Y random cost Y\n",
      "Cbc0038I Initial state - 4 integers unsatisfied sum - 1.33333\n",
      "Cbc0038I Solution found of 0\n",
      "Cbc0038I Before mini branch and bound, 1278 integers at bound fixed and 0 continuous\n",
      "Cbc0038I Mini branch and bound did not improve solution (0.19 seconds)\n",
      "Cbc0038I After 0.19 seconds - Feasibility pump exiting with objective of 0 - took 0.00 seconds\n",
      "Cbc0012I Integer solution of 0 found by feasibility pump after 0 iterations and 0 nodes (0.19 seconds)\n",
      "Cbc0001I Search completed - best objective 0, took 0 iterations and 0 nodes (0.19 seconds)\n",
      "Cbc0035I Maximum depth 0, 0 variables fixed on reduced cost\n",
      "Cuts at root node changed objective from 0 to 0\n",
      "Probing was tried 0 times and created 0 cuts of which 0 were active after adding rounds of cuts (0.000 seconds)\n",
      "Gomory was tried 0 times and created 0 cuts of which 0 were active after adding rounds of cuts (0.000 seconds)\n",
      "Knapsack was tried 0 times and created 0 cuts of which 0 were active after adding rounds of cuts (0.000 seconds)\n",
      "Clique was tried 0 times and created 0 cuts of which 0 were active after adding rounds of cuts (0.000 seconds)\n",
      "MixedIntegerRounding2 was tried 0 times and created 0 cuts of which 0 were active after adding rounds of cuts (0.000 seconds)\n",
      "FlowCover was tried 0 times and created 0 cuts of which 0 were active after adding rounds of cuts (0.000 seconds)\n",
      "TwoMirCuts was tried 0 times and created 0 cuts of which 0 were active after adding rounds of cuts (0.000 seconds)\n",
      "ZeroHalf was tried 0 times and created 0 cuts of which 0 were active after adding rounds of cuts (0.000 seconds)\n",
      "\n",
      "Result - Optimal solution found\n",
      "\n",
      "Objective value:                0.00000000\n",
      "Enumerated nodes:               0\n",
      "Total iterations:               0\n",
      "Time (CPU seconds):             0.16\n",
      "Time (Wallclock seconds):       0.21\n",
      "\n",
      "Option for printingOptions changed from normal to all\n",
      "Total time (CPU seconds):       0.17   (Wallclock seconds):       0.23\n",
      "\n"
     ]
    },
    {
     "data": {
      "text/plain": [
       "1"
      ]
     },
     "execution_count": 109,
     "metadata": {},
     "output_type": "execute_result"
    }
   ],
   "source": [
    "model.solve()"
   ]
  }
 ],
 "metadata": {
  "kernelspec": {
   "display_name": "Python 3",
   "language": "python",
   "name": "python3"
  },
  "language_info": {
   "codemirror_mode": {
    "name": "ipython",
    "version": 3
   },
   "file_extension": ".py",
   "mimetype": "text/x-python",
   "name": "python",
   "nbconvert_exporter": "python",
   "pygments_lexer": "ipython3",
   "version": "3.9.16"
  },
  "orig_nbformat": 4
 },
 "nbformat": 4,
 "nbformat_minor": 2
}
