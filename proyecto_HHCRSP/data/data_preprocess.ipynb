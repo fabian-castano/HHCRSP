{
 "cells": [
  {
   "cell_type": "code",
   "execution_count": 15,
   "metadata": {},
   "outputs": [],
   "source": [
    "import pandas as pd\n",
    "import numpy as np\n",
    "from datetime import datetime, timedelta\n",
    "import holidays as pyholidays"
   ]
  },
  {
   "cell_type": "markdown",
   "metadata": {},
   "source": [
    "# read data from data folder (organized)"
   ]
  },
  {
   "cell_type": "code",
   "execution_count": 9,
   "metadata": {},
   "outputs": [],
   "source": [
    "df=pd.read_excel('instance_organized.xlsx')\n",
    "# convert string to list\n",
    "df[\"DLI\"]=df[\"DLI\"].apply(lambda x: x.split(\",\"))\n",
    "df[\"DLI\"]=df[\"DLI\"].apply(lambda x: [int(i) for i in x])\n",
    "# find position of 1's in DLI\n",
    "df[\"DLI\"]=df[\"DLI\"].apply(lambda x: np.array([i for i, e in enumerate(x) if e == 1]))\n",
    "df.to_json('instance_organized.json',orient='records')"
   ]
  },
  {
   "cell_type": "code",
   "execution_count": null,
   "metadata": {},
   "outputs": [],
   "source": []
  },
  {
   "cell_type": "code",
   "execution_count": 36,
   "metadata": {},
   "outputs": [],
   "source": [
    "shift_type={\"morning\":[\"M\", \"COM\", \"DISP\"],\"afternoon\":[\"T1\", \"T2\", \"CHX\"]}\n",
    "\n",
    "demands={\n",
    "    (\"M\",0,0):2,\n",
    "    (\"M\",0,1):1,\n",
    "    (\"M\",1,0):2,\n",
    "    (\"M\",1,1):1,\n",
    "    (\"M\",2,0):2,\n",
    "    (\"M\",2,1):1,\n",
    "    (\"M\",3,0):2,\n",
    "    (\"M\",3,1):1,\n",
    "    (\"M\",4,0):2,\n",
    "    (\"M\",4,1):1,\n",
    "    (\"M\",5,0):1,\n",
    "    (\"M\",5,1):1,\n",
    "    (\"M\",6,0):1,\n",
    "    (\"M\",6,1):1,\n",
    "    (\"COM\",0,0):1,\n",
    "    (\"COM\",0,1):1,\n",
    "    (\"COM\",1,0):1,\n",
    "    (\"COM\",1,1):1,\n",
    "    (\"COM\",2,0):1,\n",
    "    (\"COM\",2,1):1,\n",
    "    (\"COM\",3,0):1,\n",
    "    (\"COM\",3,1):1,\n",
    "    (\"COM\",4,0):1,\n",
    "    (\"COM\",4,1):1,\n",
    "    (\"COM\",5,0):0,\n",
    "    (\"COM\",5,1):0,\n",
    "    (\"COM\",6,0):0,\n",
    "    (\"COM\",6,1):0,\n",
    "    (\"DISP\",0,0):0,\n",
    "    (\"DISP\",0,1):1,\n",
    "    (\"DISP\",1,0):0,\n",
    "    (\"DISP\",1,1):1,\n",
    "    (\"DISP\",2,0):0,\n",
    "    (\"DISP\",2,1):1,\n",
    "    (\"DISP\",3,0):0,\n",
    "    (\"DISP\",3,1):1,\n",
    "    (\"DISP\",4,0):0,\n",
    "    (\"DISP\",4,1):1,\n",
    "    (\"DISP\",5,0):1,\n",
    "    (\"DISP\",5,1):1,\n",
    "    (\"DISP\",6,0):1,\n",
    "    (\"DISP\",6,1):1,\n",
    "    (\"T1\",0,0):1,\n",
    "    (\"T1\",0,1):1,\n",
    "    (\"T1\",1,0):1,\n",
    "    (\"T1\",1,1):1,\n",
    "    (\"T1\",2,0):1,\n",
    "    (\"T1\",2,1):1,\n",
    "    (\"T1\",3,0):1,\n",
    "    (\"T1\",3,1):1,\n",
    "    (\"T1\",4,0):1,\n",
    "    (\"T1\",4,1):1,\n",
    "    (\"T1\",5,0):0,\n",
    "    (\"T1\",5,1):0,\n",
    "    (\"T1\",6,0):0,\n",
    "    (\"T1\",6,1):0,\n",
    "    (\"T2\",0,0):0,\n",
    "    (\"T2\",0,1):1,\n",
    "    (\"T2\",1,0):0,\n",
    "    (\"T2\",1,1):1,\n",
    "    (\"T2\",2,0):0,\n",
    "    (\"T2\",2,1):1,\n",
    "    (\"T2\",3,0):0,\n",
    "    (\"T2\",3,1):1,\n",
    "    (\"T2\",4,0):0,\n",
    "    (\"T2\",4,1):1,\n",
    "    (\"T2\",5,0):1,\n",
    "    (\"T2\",5,1):1,\n",
    "    (\"T2\",6,0):1,\n",
    "    (\"T2\",6,1):1,\n",
    "    (\"CHX\",0,0):1,\n",
    "    (\"CHX\",0,1):1,\n",
    "    (\"CHX\",1,0):1,\n",
    "    (\"CHX\",1,1):1,\n",
    "    (\"CHX\",2,0):1,\n",
    "    (\"CHX\",2,1):1,\n",
    "    (\"CHX\",3,0):1,\n",
    "    (\"CHX\",3,1):1,\n",
    "    (\"CHX\",4,0):1,\n",
    "    (\"CHX\",4,1):1,\n",
    "    (\"CHX\",5,0):0,\n",
    "    (\"CHX\",5,1):0,\n",
    "    (\"CHX\",6,0):0,\n",
    "    (\"CHX\",6,1):0\n",
    "}\n"
   ]
  },
  {
   "cell_type": "code",
   "execution_count": 41,
   "metadata": {},
   "outputs": [],
   "source": [
    "list_shifts=[]\n",
    "# list of dates of january 2023\n",
    "dates = pd.date_range(start='1/1/2023', end='1/31/2023')\n",
    "shift_id=0\n",
    "for fecha in dates:\n",
    "    for shift in shift_type:\n",
    "        for jornada in shift_type[shift]:\n",
    "            list_shifts.append([shift_id, \n",
    "                                fecha.strftime(\"%Y-%m-%d\"), \n",
    "                                fecha.week,\n",
    "                                jornada, shift,fecha.weekday(),\n",
    "                                fecha.strftime(\"%Y-%m-%d\") in pyholidays.CO(years=2023),\n",
    "                                demands[(jornada,fecha.weekday(),int( fecha.strftime(\"%Y-%m-%d\") in pyholidays.CO(years=2023)))]\n",
    "                                ])\n",
    "            shift_id+=1\n",
    "df_shifts=pd.DataFrame(list_shifts,columns=[\"shift_id\",\"date\",\"week\",\"jornada\",\"shift\",\"weekday\",\"holiday\",\"demand\"])\n",
    "df_shifts.index=df_shifts[\"shift_id\"]"
   ]
  },
  {
   "cell_type": "code",
   "execution_count": 43,
   "metadata": {},
   "outputs": [],
   "source": [
    "df_shifts.to_json('shifts.json',orient='records',index=True)"
   ]
  }
 ],
 "metadata": {
  "kernelspec": {
   "display_name": "Python 3",
   "language": "python",
   "name": "python3"
  },
  "language_info": {
   "codemirror_mode": {
    "name": "ipython",
    "version": 3
   },
   "file_extension": ".py",
   "mimetype": "text/x-python",
   "name": "python",
   "nbconvert_exporter": "python",
   "pygments_lexer": "ipython3",
   "version": "3.9.16"
  },
  "orig_nbformat": 4
 },
 "nbformat": 4,
 "nbformat_minor": 2
}
